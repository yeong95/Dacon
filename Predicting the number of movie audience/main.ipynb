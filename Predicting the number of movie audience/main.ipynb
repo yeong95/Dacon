{
 "cells": [
  {
   "cell_type": "code",
   "execution_count": 46,
   "metadata": {
    "ExecuteTime": {
     "end_time": "2021-12-29T05:39:02.915247Z",
     "start_time": "2021-12-29T05:39:02.898217Z"
    }
   },
   "outputs": [],
   "source": [
    "import pandas as pd\n",
    "import numpy as np\n",
    "import seaborn as sns\n",
    "import matplotlib.pyplot as plt\n",
    "import re\n",
    "import warnings\n",
    "warnings.filterwarnings('ignore')"
   ]
  },
  {
   "cell_type": "code",
   "execution_count": 47,
   "metadata": {
    "ExecuteTime": {
     "end_time": "2021-12-29T05:39:02.930220Z",
     "start_time": "2021-12-29T05:39:02.916219Z"
    }
   },
   "outputs": [],
   "source": [
    "train = pd.read_csv(\"Datasets/movies_train.csv\" , encoding='cp949')\n",
    "test = pd.read_csv('Datasets/movies_test.csv' , encoding='cp949')\n",
    "submission = pd.read_csv('Datasets/submission.csv' , encoding='cp949')"
   ]
  },
  {
   "cell_type": "code",
   "execution_count": 48,
   "metadata": {
    "ExecuteTime": {
     "end_time": "2021-12-29T05:39:02.945219Z",
     "start_time": "2021-12-29T05:39:02.932220Z"
    }
   },
   "outputs": [
    {
     "data": {
      "text/html": [
       "<div>\n",
       "<style scoped>\n",
       "    .dataframe tbody tr th:only-of-type {\n",
       "        vertical-align: middle;\n",
       "    }\n",
       "\n",
       "    .dataframe tbody tr th {\n",
       "        vertical-align: top;\n",
       "    }\n",
       "\n",
       "    .dataframe thead th {\n",
       "        text-align: right;\n",
       "    }\n",
       "</style>\n",
       "<table border=\"1\" class=\"dataframe\">\n",
       "  <thead>\n",
       "    <tr style=\"text-align: right;\">\n",
       "      <th></th>\n",
       "      <th>title</th>\n",
       "      <th>distributor</th>\n",
       "      <th>genre</th>\n",
       "      <th>release_time</th>\n",
       "      <th>time</th>\n",
       "      <th>screening_rat</th>\n",
       "      <th>director</th>\n",
       "      <th>dir_prev_bfnum</th>\n",
       "      <th>dir_prev_num</th>\n",
       "      <th>num_staff</th>\n",
       "      <th>num_actor</th>\n",
       "      <th>box_off_num</th>\n",
       "    </tr>\n",
       "  </thead>\n",
       "  <tbody>\n",
       "    <tr>\n",
       "      <th>0</th>\n",
       "      <td>개들의 전쟁</td>\n",
       "      <td>롯데엔터테인먼트</td>\n",
       "      <td>액션</td>\n",
       "      <td>2012-11-22</td>\n",
       "      <td>96</td>\n",
       "      <td>청소년 관람불가</td>\n",
       "      <td>조병옥</td>\n",
       "      <td>NaN</td>\n",
       "      <td>0</td>\n",
       "      <td>91</td>\n",
       "      <td>2</td>\n",
       "      <td>23398</td>\n",
       "    </tr>\n",
       "    <tr>\n",
       "      <th>1</th>\n",
       "      <td>내부자들</td>\n",
       "      <td>(주)쇼박스</td>\n",
       "      <td>느와르</td>\n",
       "      <td>2015-11-19</td>\n",
       "      <td>130</td>\n",
       "      <td>청소년 관람불가</td>\n",
       "      <td>우민호</td>\n",
       "      <td>1161602.50</td>\n",
       "      <td>2</td>\n",
       "      <td>387</td>\n",
       "      <td>3</td>\n",
       "      <td>7072501</td>\n",
       "    </tr>\n",
       "    <tr>\n",
       "      <th>2</th>\n",
       "      <td>은밀하게 위대하게</td>\n",
       "      <td>(주)쇼박스</td>\n",
       "      <td>액션</td>\n",
       "      <td>2013-06-05</td>\n",
       "      <td>123</td>\n",
       "      <td>15세 관람가</td>\n",
       "      <td>장철수</td>\n",
       "      <td>220775.25</td>\n",
       "      <td>4</td>\n",
       "      <td>343</td>\n",
       "      <td>4</td>\n",
       "      <td>6959083</td>\n",
       "    </tr>\n",
       "    <tr>\n",
       "      <th>3</th>\n",
       "      <td>나는 공무원이다</td>\n",
       "      <td>(주)NEW</td>\n",
       "      <td>코미디</td>\n",
       "      <td>2012-07-12</td>\n",
       "      <td>101</td>\n",
       "      <td>전체 관람가</td>\n",
       "      <td>구자홍</td>\n",
       "      <td>23894.00</td>\n",
       "      <td>2</td>\n",
       "      <td>20</td>\n",
       "      <td>6</td>\n",
       "      <td>217866</td>\n",
       "    </tr>\n",
       "    <tr>\n",
       "      <th>4</th>\n",
       "      <td>불량남녀</td>\n",
       "      <td>쇼박스(주)미디어플렉스</td>\n",
       "      <td>코미디</td>\n",
       "      <td>2010-11-04</td>\n",
       "      <td>108</td>\n",
       "      <td>15세 관람가</td>\n",
       "      <td>신근호</td>\n",
       "      <td>1.00</td>\n",
       "      <td>1</td>\n",
       "      <td>251</td>\n",
       "      <td>2</td>\n",
       "      <td>483387</td>\n",
       "    </tr>\n",
       "  </tbody>\n",
       "</table>\n",
       "</div>"
      ],
      "text/plain": [
       "       title   distributor genre release_time  time screening_rat director  \\\n",
       "0     개들의 전쟁      롯데엔터테인먼트    액션   2012-11-22    96      청소년 관람불가      조병옥   \n",
       "1       내부자들        (주)쇼박스   느와르   2015-11-19   130      청소년 관람불가      우민호   \n",
       "2  은밀하게 위대하게        (주)쇼박스    액션   2013-06-05   123       15세 관람가      장철수   \n",
       "3   나는 공무원이다        (주)NEW   코미디   2012-07-12   101        전체 관람가      구자홍   \n",
       "4       불량남녀  쇼박스(주)미디어플렉스   코미디   2010-11-04   108       15세 관람가      신근호   \n",
       "\n",
       "   dir_prev_bfnum  dir_prev_num  num_staff  num_actor  box_off_num  \n",
       "0             NaN             0         91          2        23398  \n",
       "1      1161602.50             2        387          3      7072501  \n",
       "2       220775.25             4        343          4      6959083  \n",
       "3        23894.00             2         20          6       217866  \n",
       "4            1.00             1        251          2       483387  "
      ]
     },
     "execution_count": 48,
     "metadata": {},
     "output_type": "execute_result"
    }
   ],
   "source": [
    "train.head()"
   ]
  },
  {
   "cell_type": "code",
   "execution_count": 49,
   "metadata": {
    "ExecuteTime": {
     "end_time": "2021-12-29T05:39:02.960225Z",
     "start_time": "2021-12-29T05:39:02.947220Z"
    }
   },
   "outputs": [
    {
     "data": {
      "text/html": [
       "<div>\n",
       "<style scoped>\n",
       "    .dataframe tbody tr th:only-of-type {\n",
       "        vertical-align: middle;\n",
       "    }\n",
       "\n",
       "    .dataframe tbody tr th {\n",
       "        vertical-align: top;\n",
       "    }\n",
       "\n",
       "    .dataframe thead th {\n",
       "        text-align: right;\n",
       "    }\n",
       "</style>\n",
       "<table border=\"1\" class=\"dataframe\">\n",
       "  <thead>\n",
       "    <tr style=\"text-align: right;\">\n",
       "      <th></th>\n",
       "      <th>title</th>\n",
       "      <th>distributor</th>\n",
       "      <th>genre</th>\n",
       "      <th>release_time</th>\n",
       "      <th>time</th>\n",
       "      <th>screening_rat</th>\n",
       "      <th>director</th>\n",
       "      <th>dir_prev_bfnum</th>\n",
       "      <th>dir_prev_num</th>\n",
       "      <th>num_staff</th>\n",
       "      <th>num_actor</th>\n",
       "    </tr>\n",
       "  </thead>\n",
       "  <tbody>\n",
       "    <tr>\n",
       "      <th>0</th>\n",
       "      <td>용서는 없다</td>\n",
       "      <td>시네마서비스</td>\n",
       "      <td>느와르</td>\n",
       "      <td>2010-01-07</td>\n",
       "      <td>125</td>\n",
       "      <td>청소년 관람불가</td>\n",
       "      <td>김형준</td>\n",
       "      <td>300529.000</td>\n",
       "      <td>2</td>\n",
       "      <td>304</td>\n",
       "      <td>3</td>\n",
       "    </tr>\n",
       "    <tr>\n",
       "      <th>1</th>\n",
       "      <td>아빠가 여자를 좋아해</td>\n",
       "      <td>(주)쇼박스</td>\n",
       "      <td>멜로/로맨스</td>\n",
       "      <td>2010-01-14</td>\n",
       "      <td>113</td>\n",
       "      <td>12세 관람가</td>\n",
       "      <td>이광재</td>\n",
       "      <td>342700.250</td>\n",
       "      <td>4</td>\n",
       "      <td>275</td>\n",
       "      <td>3</td>\n",
       "    </tr>\n",
       "    <tr>\n",
       "      <th>2</th>\n",
       "      <td>하모니</td>\n",
       "      <td>CJ 엔터테인먼트</td>\n",
       "      <td>드라마</td>\n",
       "      <td>2010-01-28</td>\n",
       "      <td>115</td>\n",
       "      <td>12세 관람가</td>\n",
       "      <td>강대규</td>\n",
       "      <td>4206610.667</td>\n",
       "      <td>3</td>\n",
       "      <td>419</td>\n",
       "      <td>7</td>\n",
       "    </tr>\n",
       "    <tr>\n",
       "      <th>3</th>\n",
       "      <td>의형제</td>\n",
       "      <td>(주)쇼박스</td>\n",
       "      <td>액션</td>\n",
       "      <td>2010-02-04</td>\n",
       "      <td>116</td>\n",
       "      <td>15세 관람가</td>\n",
       "      <td>장훈</td>\n",
       "      <td>691342.000</td>\n",
       "      <td>2</td>\n",
       "      <td>408</td>\n",
       "      <td>2</td>\n",
       "    </tr>\n",
       "    <tr>\n",
       "      <th>4</th>\n",
       "      <td>평행 이론</td>\n",
       "      <td>CJ 엔터테인먼트</td>\n",
       "      <td>공포</td>\n",
       "      <td>2010-02-18</td>\n",
       "      <td>110</td>\n",
       "      <td>15세 관람가</td>\n",
       "      <td>권호영</td>\n",
       "      <td>31738.000</td>\n",
       "      <td>1</td>\n",
       "      <td>380</td>\n",
       "      <td>1</td>\n",
       "    </tr>\n",
       "  </tbody>\n",
       "</table>\n",
       "</div>"
      ],
      "text/plain": [
       "         title distributor   genre release_time  time screening_rat director  \\\n",
       "0       용서는 없다      시네마서비스     느와르   2010-01-07   125      청소년 관람불가      김형준   \n",
       "1  아빠가 여자를 좋아해      (주)쇼박스  멜로/로맨스   2010-01-14   113       12세 관람가      이광재   \n",
       "2          하모니   CJ 엔터테인먼트     드라마   2010-01-28   115       12세 관람가      강대규   \n",
       "3          의형제      (주)쇼박스      액션   2010-02-04   116       15세 관람가       장훈   \n",
       "4        평행 이론   CJ 엔터테인먼트      공포   2010-02-18   110       15세 관람가      권호영   \n",
       "\n",
       "   dir_prev_bfnum  dir_prev_num  num_staff  num_actor  \n",
       "0      300529.000             2        304          3  \n",
       "1      342700.250             4        275          3  \n",
       "2     4206610.667             3        419          7  \n",
       "3      691342.000             2        408          2  \n",
       "4       31738.000             1        380          1  "
      ]
     },
     "execution_count": 49,
     "metadata": {},
     "output_type": "execute_result"
    }
   ],
   "source": [
    "test.head()"
   ]
  },
  {
   "cell_type": "code",
   "execution_count": 50,
   "metadata": {
    "ExecuteTime": {
     "end_time": "2021-12-29T05:39:02.975363Z",
     "start_time": "2021-12-29T05:39:02.962222Z"
    }
   },
   "outputs": [
    {
     "data": {
      "text/html": [
       "<div>\n",
       "<style scoped>\n",
       "    .dataframe tbody tr th:only-of-type {\n",
       "        vertical-align: middle;\n",
       "    }\n",
       "\n",
       "    .dataframe tbody tr th {\n",
       "        vertical-align: top;\n",
       "    }\n",
       "\n",
       "    .dataframe thead th {\n",
       "        text-align: right;\n",
       "    }\n",
       "</style>\n",
       "<table border=\"1\" class=\"dataframe\">\n",
       "  <thead>\n",
       "    <tr style=\"text-align: right;\">\n",
       "      <th></th>\n",
       "      <th>title</th>\n",
       "      <th>box_off_num</th>\n",
       "    </tr>\n",
       "  </thead>\n",
       "  <tbody>\n",
       "    <tr>\n",
       "      <th>0</th>\n",
       "      <td>용서는 없다</td>\n",
       "      <td>0</td>\n",
       "    </tr>\n",
       "    <tr>\n",
       "      <th>1</th>\n",
       "      <td>아빠가 여자를 좋아해</td>\n",
       "      <td>0</td>\n",
       "    </tr>\n",
       "    <tr>\n",
       "      <th>2</th>\n",
       "      <td>하모니</td>\n",
       "      <td>0</td>\n",
       "    </tr>\n",
       "    <tr>\n",
       "      <th>3</th>\n",
       "      <td>의형제</td>\n",
       "      <td>0</td>\n",
       "    </tr>\n",
       "    <tr>\n",
       "      <th>4</th>\n",
       "      <td>평행 이론</td>\n",
       "      <td>0</td>\n",
       "    </tr>\n",
       "  </tbody>\n",
       "</table>\n",
       "</div>"
      ],
      "text/plain": [
       "         title  box_off_num\n",
       "0       용서는 없다            0\n",
       "1  아빠가 여자를 좋아해            0\n",
       "2          하모니            0\n",
       "3          의형제            0\n",
       "4        평행 이론            0"
      ]
     },
     "execution_count": 50,
     "metadata": {},
     "output_type": "execute_result"
    }
   ],
   "source": [
    "submission.head()"
   ]
  },
  {
   "cell_type": "markdown",
   "metadata": {},
   "source": [
    "### 배급사 전처리"
   ]
  },
  {
   "cell_type": "code",
   "execution_count": 51,
   "metadata": {
    "ExecuteTime": {
     "end_time": "2021-12-29T05:39:02.990501Z",
     "start_time": "2021-12-29T05:39:02.977223Z"
    }
   },
   "outputs": [],
   "source": [
    "train['distributor'] = train.distributor.str.replace(\"(주)\", '')\n",
    "test['distributor'] = test.distributor.str.replace(\"(주)\", '')"
   ]
  },
  {
   "cell_type": "code",
   "execution_count": 52,
   "metadata": {
    "ExecuteTime": {
     "end_time": "2021-12-29T05:39:03.005531Z",
     "start_time": "2021-12-29T05:39:02.992509Z"
    }
   },
   "outputs": [
    {
     "data": {
      "text/plain": [
       "0       롯데엔터테인먼트\n",
       "1          ()쇼박스\n",
       "2          ()쇼박스\n",
       "3          ()NEW\n",
       "4    쇼박스()미디어플렉스\n",
       "Name: distributor, dtype: object"
      ]
     },
     "execution_count": 52,
     "metadata": {},
     "output_type": "execute_result"
    }
   ],
   "source": [
    "train.distributor.head()"
   ]
  },
  {
   "cell_type": "markdown",
   "metadata": {},
   "source": [
    "문자, 숫자가 아닌 text를 찾아서 삭제하기"
   ]
  },
  {
   "cell_type": "code",
   "execution_count": 53,
   "metadata": {
    "ExecuteTime": {
     "end_time": "2021-12-29T05:39:03.020524Z",
     "start_time": "2021-12-29T05:39:03.007499Z"
    }
   },
   "outputs": [],
   "source": [
    "train['distributor'] = [re.sub(r'[^0-9a-zA-Z가-힣]', '', x) for x in train.distributor]\n",
    "test['distributor'] = [re.sub(r'[^0-9a-zA-Z가-힣]', '', x) for x in test.distributor]"
   ]
  },
  {
   "cell_type": "code",
   "execution_count": 54,
   "metadata": {
    "ExecuteTime": {
     "end_time": "2021-12-29T05:39:03.035524Z",
     "start_time": "2021-12-29T05:39:03.021499Z"
    },
    "scrolled": true
   },
   "outputs": [
    {
     "data": {
      "text/plain": [
       "0     롯데엔터테인먼트\n",
       "1          쇼박스\n",
       "2          쇼박스\n",
       "3          NEW\n",
       "4    쇼박스미디어플렉스\n",
       "Name: distributor, dtype: object"
      ]
     },
     "execution_count": 54,
     "metadata": {},
     "output_type": "execute_result"
    }
   ],
   "source": [
    "train.distributor.head()"
   ]
  },
  {
   "cell_type": "code",
   "execution_count": 55,
   "metadata": {
    "ExecuteTime": {
     "end_time": "2021-12-29T05:39:04.444852Z",
     "start_time": "2021-12-29T05:39:04.428853Z"
    },
    "collapsed": true
   },
   "outputs": [
    {
     "data": {
      "text/plain": [
       "{'BoXoo엔터테인먼트',\n",
       " 'CGV무비꼴라쥬',\n",
       " 'CGV아트하우스',\n",
       " 'CJCGV',\n",
       " 'CJEMPictures',\n",
       " 'CJEM영화부문',\n",
       " 'CJ엔터테인먼트',\n",
       " 'JK필름',\n",
       " 'KBS미디어',\n",
       " 'KT',\n",
       " 'KTG상상마당',\n",
       " 'M2픽처스',\n",
       " 'NEW',\n",
       " 'OAL올',\n",
       " 'SBS콘텐츠허브',\n",
       " 'SK텔레콤',\n",
       " 'SK플래닛',\n",
       " 'THE픽쳐스',\n",
       " 'tvN',\n",
       " 'ysfilm',\n",
       " '건시네마',\n",
       " '고구마공작소',\n",
       " '고앤고필름',\n",
       " '골든타이드픽처스',\n",
       " '김기덕필름',\n",
       " '나우콘텐츠',\n",
       " '나이너스엔터테인먼트',\n",
       " '노바엔터테인먼트',\n",
       " '노버스엔터테인먼트',\n",
       " '대명문화공장',\n",
       " '더피플',\n",
       " '더픽쳐스',\n",
       " '더픽쳐스마운틴픽쳐스',\n",
       " '동국대학교충무로영상제작센터',\n",
       " '두엔터테인먼트',\n",
       " '두타연',\n",
       " '드림로드',\n",
       " '드림팩트엔터테인먼트',\n",
       " '디마엔터테인먼트',\n",
       " '디씨드',\n",
       " '랠리버튼',\n",
       " '레인보우팩토리',\n",
       " '로드하우스',\n",
       " '롤러코스터프로덕션',\n",
       " '롯데엔터테인먼트',\n",
       " '리틀빅픽처스',\n",
       " '리틀빅픽쳐스',\n",
       " '마노엔터테인먼트',\n",
       " '마법사필름',\n",
       " '마운틴픽처스',\n",
       " '마운틴픽쳐스',\n",
       " '마인스엔터테인먼트',\n",
       " '머니필름',\n",
       " '머스트씨무비',\n",
       " '메가박스플러스엠',\n",
       " '무비꼴라쥬',\n",
       " '미디어데이',\n",
       " '미라클필름',\n",
       " '백두대간',\n",
       " '보람엔터테인먼트',\n",
       " '브릿지웍스',\n",
       " '사람과사람들',\n",
       " '상구네필름',\n",
       " '새인컴퍼니',\n",
       " '서울독립영화제',\n",
       " '쇼박스',\n",
       " '쇼박스미디어플렉스',\n",
       " '스마일이엔티',\n",
       " '스크린조이',\n",
       " '스토리셋',\n",
       " '스톰픽쳐스코리아',\n",
       " '스튜디오느림보',\n",
       " '스튜디오블루',\n",
       " '스튜디오후크',\n",
       " '스폰지',\n",
       " '스폰지이엔티',\n",
       " '시너지',\n",
       " '시네마달',\n",
       " '시네마서비스',\n",
       " '싸이더스',\n",
       " '싸이더스FNH',\n",
       " '씨너스엔터테인먼트',\n",
       " '씨네굿필름',\n",
       " '씨네그루키다리이엔티',\n",
       " '씨엠닉스',\n",
       " '아방가르드필름',\n",
       " '아우라픽처스',\n",
       " '아이필름코퍼레이션',\n",
       " '액티버스엔터테인먼트',\n",
       " '어뮤즈',\n",
       " '어썸피플',\n",
       " '에스와이코마드',\n",
       " '에스피엠',\n",
       " '에이블엔터테인먼트',\n",
       " '에이원엔터테인먼트',\n",
       " '엣나인필름',\n",
       " '영구아트무비',\n",
       " '영화사',\n",
       " '영화사조아',\n",
       " '영화사조제',\n",
       " '영화사진진',\n",
       " '영화제작전원사',\n",
       " '영희야놀자',\n",
       " '예지림엔터테인먼트',\n",
       " '오퍼스픽쳐스',\n",
       " '온비즈넷',\n",
       " '와이드릴리즈',\n",
       " '웃기씨네',\n",
       " '위더스필름',\n",
       " '위드시네마',\n",
       " '유니버설픽쳐스인터내셔널코리아',\n",
       " '유비네트워크',\n",
       " '유비콘텐츠',\n",
       " '이달투',\n",
       " '이모션픽처스',\n",
       " '이상우필름',\n",
       " '이스트스카이필름',\n",
       " '이십세기폭스코리아',\n",
       " '인디스토리',\n",
       " '인디플러그',\n",
       " '인벤트디',\n",
       " '인터콘미디어',\n",
       " '인피니티엔터테인먼트',\n",
       " '쟈비스미디어',\n",
       " '전국제영화제',\n",
       " '전망좋은영화사',\n",
       " '제나두엔터테인먼트',\n",
       " '조이앤시네마',\n",
       " '조이앤컨텐츠그룹',\n",
       " '찬란',\n",
       " '케이알씨지',\n",
       " '케이엠스타',\n",
       " '콘텐츠윙',\n",
       " '콘텐츠판다',\n",
       " '크리에이티브컴즈',\n",
       " '키노아이',\n",
       " '키노엔터테인먼트',\n",
       " '타임스토리그룹',\n",
       " '트리필름',\n",
       " '파이오니아21',\n",
       " '판다미디어',\n",
       " '판씨네마',\n",
       " '팜코리아미디어',\n",
       " '팝엔터테인먼트',\n",
       " '팝파트너스',\n",
       " '패뷸러스',\n",
       " '패스파인더씨앤씨',\n",
       " '퍼스트런',\n",
       " '프레인글로벌',\n",
       " '프로젝트엠피',\n",
       " '프리비젼엔터테인먼트',\n",
       " '피터팬픽쳐스',\n",
       " '필라멘트픽쳐스',\n",
       " '필름라인',\n",
       " '하준사',\n",
       " '한국YWCA연합회',\n",
       " '홀리가든',\n",
       " '화앤담이엔티',\n",
       " '휘엔터테인먼트'}"
      ]
     },
     "execution_count": 55,
     "metadata": {},
     "output_type": "execute_result"
    }
   ],
   "source": [
    "set(train.distributor.values)"
   ]
  },
  {
   "cell_type": "markdown",
   "metadata": {},
   "source": [
    "같은 계열사의 배급사들을 하나로 통합하기 "
   ]
  },
  {
   "cell_type": "code",
   "execution_count": 56,
   "metadata": {
    "ExecuteTime": {
     "end_time": "2021-12-29T05:39:33.418743Z",
     "start_time": "2021-12-29T05:39:33.401749Z"
    }
   },
   "outputs": [],
   "source": [
    "def get_dis(x) :\n",
    "    if 'CJ' in x or 'CGV' in x :\n",
    "        return 'CJ'\n",
    "    elif '쇼박스' in x :\n",
    "        return '쇼박스'\n",
    "    elif 'SK' in x :\n",
    "        return 'SK'\n",
    "    elif '리틀빅픽' in x :\n",
    "        return '리틀빅픽처스'\n",
    "    elif '스폰지' in x :\n",
    "        return '스폰지'\n",
    "    elif '싸이더스' in x :\n",
    "        return '싸이더스'\n",
    "    elif '에이원' in x :\n",
    "        return '에이원'\n",
    "    elif '마인스' in x :\n",
    "        return '마인스'\n",
    "    elif '마운틴픽' in x :\n",
    "        return '마운틴픽처스'\n",
    "    elif '디씨드' in x :\n",
    "        return '디씨드'\n",
    "    elif '드림팩트' in x :\n",
    "        return '드림팩트'\n",
    "    elif '메가박스' in x :\n",
    "        return '메가박스'\n",
    "    elif '마운틴' in x :\n",
    "        return '마운틴'\n",
    "    else :\n",
    "        return x"
   ]
  },
  {
   "cell_type": "code",
   "execution_count": 57,
   "metadata": {
    "ExecuteTime": {
     "end_time": "2021-12-29T05:39:34.085707Z",
     "start_time": "2021-12-29T05:39:34.078733Z"
    }
   },
   "outputs": [],
   "source": [
    "train['distributor'] = train.distributor.apply(get_dis)\n",
    "test['distributor'] = test.distributor.apply(get_dis)"
   ]
  },
  {
   "cell_type": "code",
   "execution_count": 58,
   "metadata": {
    "ExecuteTime": {
     "end_time": "2021-12-29T05:39:38.723579Z",
     "start_time": "2021-12-29T05:39:38.717578Z"
    },
    "collapsed": true
   },
   "outputs": [
    {
     "data": {
      "text/plain": [
       "{'BoXoo엔터테인먼트',\n",
       " 'CJ',\n",
       " 'JK필름',\n",
       " 'KBS미디어',\n",
       " 'KT',\n",
       " 'KTG상상마당',\n",
       " 'M2픽처스',\n",
       " 'NEW',\n",
       " 'OAL올',\n",
       " 'SBS콘텐츠허브',\n",
       " 'SK',\n",
       " 'THE픽쳐스',\n",
       " 'tvN',\n",
       " 'ysfilm',\n",
       " '건시네마',\n",
       " '고구마공작소',\n",
       " '고앤고필름',\n",
       " '골든타이드픽처스',\n",
       " '김기덕필름',\n",
       " '나우콘텐츠',\n",
       " '나이너스엔터테인먼트',\n",
       " '노바엔터테인먼트',\n",
       " '노버스엔터테인먼트',\n",
       " '대명문화공장',\n",
       " '더피플',\n",
       " '더픽쳐스',\n",
       " '동국대학교충무로영상제작센터',\n",
       " '두엔터테인먼트',\n",
       " '두타연',\n",
       " '드림로드',\n",
       " '드림팩트',\n",
       " '디마엔터테인먼트',\n",
       " '디씨드',\n",
       " '랠리버튼',\n",
       " '레인보우팩토리',\n",
       " '로드하우스',\n",
       " '롤러코스터프로덕션',\n",
       " '롯데엔터테인먼트',\n",
       " '리틀빅픽처스',\n",
       " '마노엔터테인먼트',\n",
       " '마법사필름',\n",
       " '마운틴픽처스',\n",
       " '마인스',\n",
       " '머니필름',\n",
       " '머스트씨무비',\n",
       " '메가박스',\n",
       " '무비꼴라쥬',\n",
       " '미디어데이',\n",
       " '미라클필름',\n",
       " '백두대간',\n",
       " '보람엔터테인먼트',\n",
       " '브릿지웍스',\n",
       " '사람과사람들',\n",
       " '상구네필름',\n",
       " '새인컴퍼니',\n",
       " '서울독립영화제',\n",
       " '쇼박스',\n",
       " '스마일이엔티',\n",
       " '스크린조이',\n",
       " '스토리셋',\n",
       " '스톰픽쳐스코리아',\n",
       " '스튜디오느림보',\n",
       " '스튜디오블루',\n",
       " '스튜디오후크',\n",
       " '스폰지',\n",
       " '시너지',\n",
       " '시네마달',\n",
       " '시네마서비스',\n",
       " '싸이더스',\n",
       " '씨너스엔터테인먼트',\n",
       " '씨네굿필름',\n",
       " '씨네그루키다리이엔티',\n",
       " '씨엠닉스',\n",
       " '아방가르드필름',\n",
       " '아우라픽처스',\n",
       " '아이필름코퍼레이션',\n",
       " '액티버스엔터테인먼트',\n",
       " '어뮤즈',\n",
       " '어썸피플',\n",
       " '에스와이코마드',\n",
       " '에스피엠',\n",
       " '에이블엔터테인먼트',\n",
       " '에이원',\n",
       " '엣나인필름',\n",
       " '영구아트무비',\n",
       " '영화사',\n",
       " '영화사조아',\n",
       " '영화사조제',\n",
       " '영화사진진',\n",
       " '영화제작전원사',\n",
       " '영희야놀자',\n",
       " '예지림엔터테인먼트',\n",
       " '오퍼스픽쳐스',\n",
       " '온비즈넷',\n",
       " '와이드릴리즈',\n",
       " '웃기씨네',\n",
       " '위더스필름',\n",
       " '위드시네마',\n",
       " '유니버설픽쳐스인터내셔널코리아',\n",
       " '유비네트워크',\n",
       " '유비콘텐츠',\n",
       " '이달투',\n",
       " '이모션픽처스',\n",
       " '이상우필름',\n",
       " '이스트스카이필름',\n",
       " '이십세기폭스코리아',\n",
       " '인디스토리',\n",
       " '인디플러그',\n",
       " '인벤트디',\n",
       " '인터콘미디어',\n",
       " '인피니티엔터테인먼트',\n",
       " '쟈비스미디어',\n",
       " '전국제영화제',\n",
       " '전망좋은영화사',\n",
       " '제나두엔터테인먼트',\n",
       " '조이앤시네마',\n",
       " '조이앤컨텐츠그룹',\n",
       " '찬란',\n",
       " '케이알씨지',\n",
       " '케이엠스타',\n",
       " '콘텐츠윙',\n",
       " '콘텐츠판다',\n",
       " '크리에이티브컴즈',\n",
       " '키노아이',\n",
       " '키노엔터테인먼트',\n",
       " '타임스토리그룹',\n",
       " '트리필름',\n",
       " '파이오니아21',\n",
       " '판다미디어',\n",
       " '판씨네마',\n",
       " '팜코리아미디어',\n",
       " '팝엔터테인먼트',\n",
       " '팝파트너스',\n",
       " '패뷸러스',\n",
       " '패스파인더씨앤씨',\n",
       " '퍼스트런',\n",
       " '프레인글로벌',\n",
       " '프로젝트엠피',\n",
       " '프리비젼엔터테인먼트',\n",
       " '피터팬픽쳐스',\n",
       " '필라멘트픽쳐스',\n",
       " '필름라인',\n",
       " '하준사',\n",
       " '한국YWCA연합회',\n",
       " '홀리가든',\n",
       " '화앤담이엔티',\n",
       " '휘엔터테인먼트'}"
      ]
     },
     "execution_count": 58,
     "metadata": {},
     "output_type": "execute_result"
    }
   ],
   "source": [
    "set(train.distributor.values)"
   ]
  },
  {
   "cell_type": "markdown",
   "metadata": {},
   "source": [
    "### 장르별 영화 관객수 평균값으로 랭크 인코딩"
   ]
  },
  {
   "cell_type": "code",
   "execution_count": 59,
   "metadata": {
    "ExecuteTime": {
     "end_time": "2021-12-29T05:44:31.704915Z",
     "start_time": "2021-12-29T05:44:31.679915Z"
    },
    "scrolled": true
   },
   "outputs": [
    {
     "data": {
      "text/plain": [
       "genre\n",
       "뮤지컬       6.627000e+03\n",
       "다큐멘터리     6.717226e+04\n",
       "서스펜스      8.261100e+04\n",
       "애니메이션     1.819267e+05\n",
       "멜로/로맨스    4.259680e+05\n",
       "미스터리      5.275482e+05\n",
       "공포        5.908325e+05\n",
       "드라마       6.256898e+05\n",
       "코미디       1.193914e+06\n",
       "SF        1.788346e+06\n",
       "액션        2.203974e+06\n",
       "느와르       2.263695e+06\n",
       "Name: box_off_num, dtype: float64"
      ]
     },
     "execution_count": 59,
     "metadata": {},
     "output_type": "execute_result"
    }
   ],
   "source": [
    "train.groupby('genre').box_off_num.mean().sort_values()"
   ]
  },
  {
   "cell_type": "code",
   "execution_count": 61,
   "metadata": {
    "ExecuteTime": {
     "end_time": "2021-12-29T05:46:22.249641Z",
     "start_time": "2021-12-29T05:46:22.239641Z"
    }
   },
   "outputs": [],
   "source": [
    "train['genre_rank'] = train.genre.map({'뮤지컬' : 1, '다큐멘터리' : 2, '서스펜스' : 3, '애니메이션' : 4, '멜로/로맨스' : 5,\n",
    "                                      '미스터리' : 6, '공포' : 7, '드라마' : 8, '코미디' : 9, 'SF' : 10, '액션' : 11, '느와르' : 12})\n",
    "test['genre_rank'] = test.genre.map({'뮤지컬' : 1, '다큐멘터리' : 2, '서스펜스' : 3, '애니메이션' : 4, '멜로/로맨스' : 5,\n",
    "                                      '미스터리' : 6, '공포' : 7, '드라마' : 8, '코미디' : 9, 'SF' : 10, '액션' : 11, '느와르' : 12})"
   ]
  },
  {
   "cell_type": "code",
   "execution_count": 62,
   "metadata": {
    "ExecuteTime": {
     "end_time": "2021-12-29T05:46:25.963823Z",
     "start_time": "2021-12-29T05:46:25.951823Z"
    }
   },
   "outputs": [
    {
     "data": {
      "text/html": [
       "<div>\n",
       "<style scoped>\n",
       "    .dataframe tbody tr th:only-of-type {\n",
       "        vertical-align: middle;\n",
       "    }\n",
       "\n",
       "    .dataframe tbody tr th {\n",
       "        vertical-align: top;\n",
       "    }\n",
       "\n",
       "    .dataframe thead th {\n",
       "        text-align: right;\n",
       "    }\n",
       "</style>\n",
       "<table border=\"1\" class=\"dataframe\">\n",
       "  <thead>\n",
       "    <tr style=\"text-align: right;\">\n",
       "      <th></th>\n",
       "      <th>title</th>\n",
       "      <th>distributor</th>\n",
       "      <th>genre</th>\n",
       "      <th>release_time</th>\n",
       "      <th>time</th>\n",
       "      <th>screening_rat</th>\n",
       "      <th>director</th>\n",
       "      <th>dir_prev_bfnum</th>\n",
       "      <th>dir_prev_num</th>\n",
       "      <th>num_staff</th>\n",
       "      <th>num_actor</th>\n",
       "      <th>box_off_num</th>\n",
       "      <th>genre_rank</th>\n",
       "    </tr>\n",
       "  </thead>\n",
       "  <tbody>\n",
       "    <tr>\n",
       "      <th>0</th>\n",
       "      <td>개들의 전쟁</td>\n",
       "      <td>롯데엔터테인먼트</td>\n",
       "      <td>액션</td>\n",
       "      <td>2012-11-22</td>\n",
       "      <td>96</td>\n",
       "      <td>청소년 관람불가</td>\n",
       "      <td>조병옥</td>\n",
       "      <td>NaN</td>\n",
       "      <td>0</td>\n",
       "      <td>91</td>\n",
       "      <td>2</td>\n",
       "      <td>23398</td>\n",
       "      <td>11</td>\n",
       "    </tr>\n",
       "    <tr>\n",
       "      <th>1</th>\n",
       "      <td>내부자들</td>\n",
       "      <td>쇼박스</td>\n",
       "      <td>느와르</td>\n",
       "      <td>2015-11-19</td>\n",
       "      <td>130</td>\n",
       "      <td>청소년 관람불가</td>\n",
       "      <td>우민호</td>\n",
       "      <td>1161602.50</td>\n",
       "      <td>2</td>\n",
       "      <td>387</td>\n",
       "      <td>3</td>\n",
       "      <td>7072501</td>\n",
       "      <td>12</td>\n",
       "    </tr>\n",
       "    <tr>\n",
       "      <th>2</th>\n",
       "      <td>은밀하게 위대하게</td>\n",
       "      <td>쇼박스</td>\n",
       "      <td>액션</td>\n",
       "      <td>2013-06-05</td>\n",
       "      <td>123</td>\n",
       "      <td>15세 관람가</td>\n",
       "      <td>장철수</td>\n",
       "      <td>220775.25</td>\n",
       "      <td>4</td>\n",
       "      <td>343</td>\n",
       "      <td>4</td>\n",
       "      <td>6959083</td>\n",
       "      <td>11</td>\n",
       "    </tr>\n",
       "    <tr>\n",
       "      <th>3</th>\n",
       "      <td>나는 공무원이다</td>\n",
       "      <td>NEW</td>\n",
       "      <td>코미디</td>\n",
       "      <td>2012-07-12</td>\n",
       "      <td>101</td>\n",
       "      <td>전체 관람가</td>\n",
       "      <td>구자홍</td>\n",
       "      <td>23894.00</td>\n",
       "      <td>2</td>\n",
       "      <td>20</td>\n",
       "      <td>6</td>\n",
       "      <td>217866</td>\n",
       "      <td>9</td>\n",
       "    </tr>\n",
       "    <tr>\n",
       "      <th>4</th>\n",
       "      <td>불량남녀</td>\n",
       "      <td>쇼박스</td>\n",
       "      <td>코미디</td>\n",
       "      <td>2010-11-04</td>\n",
       "      <td>108</td>\n",
       "      <td>15세 관람가</td>\n",
       "      <td>신근호</td>\n",
       "      <td>1.00</td>\n",
       "      <td>1</td>\n",
       "      <td>251</td>\n",
       "      <td>2</td>\n",
       "      <td>483387</td>\n",
       "      <td>9</td>\n",
       "    </tr>\n",
       "  </tbody>\n",
       "</table>\n",
       "</div>"
      ],
      "text/plain": [
       "       title distributor genre release_time  time screening_rat director  \\\n",
       "0     개들의 전쟁    롯데엔터테인먼트    액션   2012-11-22    96      청소년 관람불가      조병옥   \n",
       "1       내부자들         쇼박스   느와르   2015-11-19   130      청소년 관람불가      우민호   \n",
       "2  은밀하게 위대하게         쇼박스    액션   2013-06-05   123       15세 관람가      장철수   \n",
       "3   나는 공무원이다         NEW   코미디   2012-07-12   101        전체 관람가      구자홍   \n",
       "4       불량남녀         쇼박스   코미디   2010-11-04   108       15세 관람가      신근호   \n",
       "\n",
       "   dir_prev_bfnum  dir_prev_num  num_staff  num_actor  box_off_num  genre_rank  \n",
       "0             NaN             0         91          2        23398          11  \n",
       "1      1161602.50             2        387          3      7072501          12  \n",
       "2       220775.25             4        343          4      6959083          11  \n",
       "3        23894.00             2         20          6       217866           9  \n",
       "4            1.00             1        251          2       483387           9  "
      ]
     },
     "execution_count": 62,
     "metadata": {},
     "output_type": "execute_result"
    }
   ],
   "source": [
    "train.head()"
   ]
  },
  {
   "cell_type": "markdown",
   "metadata": {},
   "source": [
    "### 배급사별 영화 관객수 중위값 기준으로 배급사 랭크 인코딩"
   ]
  },
  {
   "cell_type": "markdown",
   "metadata": {},
   "source": [
    "__Series.reset_index__: index가 불필요해서 column으로 지정해야 되는 경우에 사용. "
   ]
  },
  {
   "cell_type": "code",
   "execution_count": 72,
   "metadata": {
    "ExecuteTime": {
     "end_time": "2021-12-29T05:53:43.346632Z",
     "start_time": "2021-12-29T05:53:43.325636Z"
    }
   },
   "outputs": [
    {
     "data": {
      "text/html": [
       "<div>\n",
       "<style scoped>\n",
       "    .dataframe tbody tr th:only-of-type {\n",
       "        vertical-align: middle;\n",
       "    }\n",
       "\n",
       "    .dataframe tbody tr th {\n",
       "        vertical-align: top;\n",
       "    }\n",
       "\n",
       "    .dataframe thead th {\n",
       "        text-align: right;\n",
       "    }\n",
       "</style>\n",
       "<table border=\"1\" class=\"dataframe\">\n",
       "  <thead>\n",
       "    <tr style=\"text-align: right;\">\n",
       "      <th></th>\n",
       "      <th>distributor</th>\n",
       "      <th>num_rank</th>\n",
       "    </tr>\n",
       "  </thead>\n",
       "  <tbody>\n",
       "    <tr>\n",
       "      <th>110</th>\n",
       "      <td>인피니티엔터테인먼트</td>\n",
       "      <td>2.0</td>\n",
       "    </tr>\n",
       "    <tr>\n",
       "      <th>15</th>\n",
       "      <td>고구마공작소</td>\n",
       "      <td>8.0</td>\n",
       "    </tr>\n",
       "    <tr>\n",
       "      <th>52</th>\n",
       "      <td>사람과사람들</td>\n",
       "      <td>42.0</td>\n",
       "    </tr>\n",
       "    <tr>\n",
       "      <th>97</th>\n",
       "      <td>위드시네마</td>\n",
       "      <td>46.0</td>\n",
       "    </tr>\n",
       "    <tr>\n",
       "      <th>19</th>\n",
       "      <td>나우콘텐츠</td>\n",
       "      <td>54.0</td>\n",
       "    </tr>\n",
       "    <tr>\n",
       "      <th>...</th>\n",
       "      <td>...</td>\n",
       "      <td>...</td>\n",
       "    </tr>\n",
       "    <tr>\n",
       "      <th>113</th>\n",
       "      <td>전망좋은영화사</td>\n",
       "      <td>1214237.0</td>\n",
       "    </tr>\n",
       "    <tr>\n",
       "      <th>105</th>\n",
       "      <td>이십세기폭스코리아</td>\n",
       "      <td>1422844.0</td>\n",
       "    </tr>\n",
       "    <tr>\n",
       "      <th>56</th>\n",
       "      <td>쇼박스</td>\n",
       "      <td>2138560.0</td>\n",
       "    </tr>\n",
       "    <tr>\n",
       "      <th>84</th>\n",
       "      <td>영구아트무비</td>\n",
       "      <td>2541603.0</td>\n",
       "    </tr>\n",
       "    <tr>\n",
       "      <th>75</th>\n",
       "      <td>아이필름코퍼레이션</td>\n",
       "      <td>3117859.0</td>\n",
       "    </tr>\n",
       "  </tbody>\n",
       "</table>\n",
       "<p>147 rows × 2 columns</p>\n",
       "</div>"
      ],
      "text/plain": [
       "    distributor   num_rank\n",
       "110  인피니티엔터테인먼트        2.0\n",
       "15       고구마공작소        8.0\n",
       "52       사람과사람들       42.0\n",
       "97        위드시네마       46.0\n",
       "19        나우콘텐츠       54.0\n",
       "..          ...        ...\n",
       "113     전망좋은영화사  1214237.0\n",
       "105   이십세기폭스코리아  1422844.0\n",
       "56          쇼박스  2138560.0\n",
       "84       영구아트무비  2541603.0\n",
       "75    아이필름코퍼레이션  3117859.0\n",
       "\n",
       "[147 rows x 2 columns]"
      ]
     },
     "execution_count": 72,
     "metadata": {},
     "output_type": "execute_result"
    }
   ],
   "source": [
    "tr_nm_rank = train.groupby('distributor').box_off_num.median().reset_index(name = 'num_rank').sort_values(by = 'num_rank')\n",
    "tr_nm_rank"
   ]
  },
  {
   "cell_type": "code",
   "execution_count": 74,
   "metadata": {
    "ExecuteTime": {
     "end_time": "2021-12-29T05:54:32.886523Z",
     "start_time": "2021-12-29T05:54:32.876522Z"
    }
   },
   "outputs": [],
   "source": [
    "tr_nm_rank['num_rank'] = [i + 1 for i in range(tr_nm_rank.shape[0])]"
   ]
  },
  {
   "cell_type": "code",
   "execution_count": 75,
   "metadata": {
    "ExecuteTime": {
     "end_time": "2021-12-29T05:54:37.070050Z",
     "start_time": "2021-12-29T05:54:37.056048Z"
    },
    "scrolled": true
   },
   "outputs": [
    {
     "data": {
      "text/html": [
       "<div>\n",
       "<style scoped>\n",
       "    .dataframe tbody tr th:only-of-type {\n",
       "        vertical-align: middle;\n",
       "    }\n",
       "\n",
       "    .dataframe tbody tr th {\n",
       "        vertical-align: top;\n",
       "    }\n",
       "\n",
       "    .dataframe thead th {\n",
       "        text-align: right;\n",
       "    }\n",
       "</style>\n",
       "<table border=\"1\" class=\"dataframe\">\n",
       "  <thead>\n",
       "    <tr style=\"text-align: right;\">\n",
       "      <th></th>\n",
       "      <th>distributor</th>\n",
       "      <th>num_rank</th>\n",
       "    </tr>\n",
       "  </thead>\n",
       "  <tbody>\n",
       "    <tr>\n",
       "      <th>110</th>\n",
       "      <td>인피니티엔터테인먼트</td>\n",
       "      <td>1</td>\n",
       "    </tr>\n",
       "    <tr>\n",
       "      <th>15</th>\n",
       "      <td>고구마공작소</td>\n",
       "      <td>2</td>\n",
       "    </tr>\n",
       "    <tr>\n",
       "      <th>52</th>\n",
       "      <td>사람과사람들</td>\n",
       "      <td>3</td>\n",
       "    </tr>\n",
       "    <tr>\n",
       "      <th>97</th>\n",
       "      <td>위드시네마</td>\n",
       "      <td>4</td>\n",
       "    </tr>\n",
       "    <tr>\n",
       "      <th>19</th>\n",
       "      <td>나우콘텐츠</td>\n",
       "      <td>5</td>\n",
       "    </tr>\n",
       "    <tr>\n",
       "      <th>...</th>\n",
       "      <td>...</td>\n",
       "      <td>...</td>\n",
       "    </tr>\n",
       "    <tr>\n",
       "      <th>113</th>\n",
       "      <td>전망좋은영화사</td>\n",
       "      <td>143</td>\n",
       "    </tr>\n",
       "    <tr>\n",
       "      <th>105</th>\n",
       "      <td>이십세기폭스코리아</td>\n",
       "      <td>144</td>\n",
       "    </tr>\n",
       "    <tr>\n",
       "      <th>56</th>\n",
       "      <td>쇼박스</td>\n",
       "      <td>145</td>\n",
       "    </tr>\n",
       "    <tr>\n",
       "      <th>84</th>\n",
       "      <td>영구아트무비</td>\n",
       "      <td>146</td>\n",
       "    </tr>\n",
       "    <tr>\n",
       "      <th>75</th>\n",
       "      <td>아이필름코퍼레이션</td>\n",
       "      <td>147</td>\n",
       "    </tr>\n",
       "  </tbody>\n",
       "</table>\n",
       "<p>147 rows × 2 columns</p>\n",
       "</div>"
      ],
      "text/plain": [
       "    distributor  num_rank\n",
       "110  인피니티엔터테인먼트         1\n",
       "15       고구마공작소         2\n",
       "52       사람과사람들         3\n",
       "97        위드시네마         4\n",
       "19        나우콘텐츠         5\n",
       "..          ...       ...\n",
       "113     전망좋은영화사       143\n",
       "105   이십세기폭스코리아       144\n",
       "56          쇼박스       145\n",
       "84       영구아트무비       146\n",
       "75    아이필름코퍼레이션       147\n",
       "\n",
       "[147 rows x 2 columns]"
      ]
     },
     "execution_count": 75,
     "metadata": {},
     "output_type": "execute_result"
    }
   ],
   "source": [
    "tr_nm_rank"
   ]
  },
  {
   "cell_type": "markdown",
   "metadata": {},
   "source": [
    "### 최종 데이터 병합"
   ]
  },
  {
   "cell_type": "code",
   "execution_count": 76,
   "metadata": {
    "ExecuteTime": {
     "end_time": "2021-12-29T05:56:17.615100Z",
     "start_time": "2021-12-29T05:56:17.600129Z"
    },
    "scrolled": true
   },
   "outputs": [
    {
     "data": {
      "text/html": [
       "<div>\n",
       "<style scoped>\n",
       "    .dataframe tbody tr th:only-of-type {\n",
       "        vertical-align: middle;\n",
       "    }\n",
       "\n",
       "    .dataframe tbody tr th {\n",
       "        vertical-align: top;\n",
       "    }\n",
       "\n",
       "    .dataframe thead th {\n",
       "        text-align: right;\n",
       "    }\n",
       "</style>\n",
       "<table border=\"1\" class=\"dataframe\">\n",
       "  <thead>\n",
       "    <tr style=\"text-align: right;\">\n",
       "      <th></th>\n",
       "      <th>title</th>\n",
       "      <th>distributor</th>\n",
       "      <th>genre</th>\n",
       "      <th>release_time</th>\n",
       "      <th>time</th>\n",
       "      <th>screening_rat</th>\n",
       "      <th>director</th>\n",
       "      <th>dir_prev_bfnum</th>\n",
       "      <th>dir_prev_num</th>\n",
       "      <th>num_staff</th>\n",
       "      <th>num_actor</th>\n",
       "      <th>box_off_num</th>\n",
       "      <th>genre_rank</th>\n",
       "    </tr>\n",
       "  </thead>\n",
       "  <tbody>\n",
       "    <tr>\n",
       "      <th>0</th>\n",
       "      <td>개들의 전쟁</td>\n",
       "      <td>롯데엔터테인먼트</td>\n",
       "      <td>액션</td>\n",
       "      <td>2012-11-22</td>\n",
       "      <td>96</td>\n",
       "      <td>청소년 관람불가</td>\n",
       "      <td>조병옥</td>\n",
       "      <td>NaN</td>\n",
       "      <td>0</td>\n",
       "      <td>91</td>\n",
       "      <td>2</td>\n",
       "      <td>23398</td>\n",
       "      <td>11</td>\n",
       "    </tr>\n",
       "    <tr>\n",
       "      <th>1</th>\n",
       "      <td>내부자들</td>\n",
       "      <td>쇼박스</td>\n",
       "      <td>느와르</td>\n",
       "      <td>2015-11-19</td>\n",
       "      <td>130</td>\n",
       "      <td>청소년 관람불가</td>\n",
       "      <td>우민호</td>\n",
       "      <td>1161602.50</td>\n",
       "      <td>2</td>\n",
       "      <td>387</td>\n",
       "      <td>3</td>\n",
       "      <td>7072501</td>\n",
       "      <td>12</td>\n",
       "    </tr>\n",
       "    <tr>\n",
       "      <th>2</th>\n",
       "      <td>은밀하게 위대하게</td>\n",
       "      <td>쇼박스</td>\n",
       "      <td>액션</td>\n",
       "      <td>2013-06-05</td>\n",
       "      <td>123</td>\n",
       "      <td>15세 관람가</td>\n",
       "      <td>장철수</td>\n",
       "      <td>220775.25</td>\n",
       "      <td>4</td>\n",
       "      <td>343</td>\n",
       "      <td>4</td>\n",
       "      <td>6959083</td>\n",
       "      <td>11</td>\n",
       "    </tr>\n",
       "    <tr>\n",
       "      <th>3</th>\n",
       "      <td>나는 공무원이다</td>\n",
       "      <td>NEW</td>\n",
       "      <td>코미디</td>\n",
       "      <td>2012-07-12</td>\n",
       "      <td>101</td>\n",
       "      <td>전체 관람가</td>\n",
       "      <td>구자홍</td>\n",
       "      <td>23894.00</td>\n",
       "      <td>2</td>\n",
       "      <td>20</td>\n",
       "      <td>6</td>\n",
       "      <td>217866</td>\n",
       "      <td>9</td>\n",
       "    </tr>\n",
       "    <tr>\n",
       "      <th>4</th>\n",
       "      <td>불량남녀</td>\n",
       "      <td>쇼박스</td>\n",
       "      <td>코미디</td>\n",
       "      <td>2010-11-04</td>\n",
       "      <td>108</td>\n",
       "      <td>15세 관람가</td>\n",
       "      <td>신근호</td>\n",
       "      <td>1.00</td>\n",
       "      <td>1</td>\n",
       "      <td>251</td>\n",
       "      <td>2</td>\n",
       "      <td>483387</td>\n",
       "      <td>9</td>\n",
       "    </tr>\n",
       "    <tr>\n",
       "      <th>...</th>\n",
       "      <td>...</td>\n",
       "      <td>...</td>\n",
       "      <td>...</td>\n",
       "      <td>...</td>\n",
       "      <td>...</td>\n",
       "      <td>...</td>\n",
       "      <td>...</td>\n",
       "      <td>...</td>\n",
       "      <td>...</td>\n",
       "      <td>...</td>\n",
       "      <td>...</td>\n",
       "      <td>...</td>\n",
       "      <td>...</td>\n",
       "    </tr>\n",
       "    <tr>\n",
       "      <th>595</th>\n",
       "      <td>해무</td>\n",
       "      <td>NEW</td>\n",
       "      <td>드라마</td>\n",
       "      <td>2014-08-13</td>\n",
       "      <td>111</td>\n",
       "      <td>청소년 관람불가</td>\n",
       "      <td>심성보</td>\n",
       "      <td>3833.00</td>\n",
       "      <td>1</td>\n",
       "      <td>510</td>\n",
       "      <td>7</td>\n",
       "      <td>1475091</td>\n",
       "      <td>8</td>\n",
       "    </tr>\n",
       "    <tr>\n",
       "      <th>596</th>\n",
       "      <td>파파로티</td>\n",
       "      <td>쇼박스</td>\n",
       "      <td>드라마</td>\n",
       "      <td>2013-03-14</td>\n",
       "      <td>127</td>\n",
       "      <td>15세 관람가</td>\n",
       "      <td>윤종찬</td>\n",
       "      <td>496061.00</td>\n",
       "      <td>1</td>\n",
       "      <td>286</td>\n",
       "      <td>6</td>\n",
       "      <td>1716438</td>\n",
       "      <td>8</td>\n",
       "    </tr>\n",
       "    <tr>\n",
       "      <th>597</th>\n",
       "      <td>살인의 강</td>\n",
       "      <td>마운틴픽처스</td>\n",
       "      <td>공포</td>\n",
       "      <td>2010-09-30</td>\n",
       "      <td>99</td>\n",
       "      <td>청소년 관람불가</td>\n",
       "      <td>김대현</td>\n",
       "      <td>NaN</td>\n",
       "      <td>0</td>\n",
       "      <td>123</td>\n",
       "      <td>4</td>\n",
       "      <td>2475</td>\n",
       "      <td>7</td>\n",
       "    </tr>\n",
       "    <tr>\n",
       "      <th>598</th>\n",
       "      <td>악의 연대기</td>\n",
       "      <td>CJ</td>\n",
       "      <td>느와르</td>\n",
       "      <td>2015-05-14</td>\n",
       "      <td>102</td>\n",
       "      <td>15세 관람가</td>\n",
       "      <td>백운학</td>\n",
       "      <td>NaN</td>\n",
       "      <td>0</td>\n",
       "      <td>431</td>\n",
       "      <td>4</td>\n",
       "      <td>2192525</td>\n",
       "      <td>12</td>\n",
       "    </tr>\n",
       "    <tr>\n",
       "      <th>599</th>\n",
       "      <td>베를린</td>\n",
       "      <td>CJ</td>\n",
       "      <td>액션</td>\n",
       "      <td>2013-01-30</td>\n",
       "      <td>120</td>\n",
       "      <td>15세 관람가</td>\n",
       "      <td>류승완</td>\n",
       "      <td>NaN</td>\n",
       "      <td>0</td>\n",
       "      <td>363</td>\n",
       "      <td>5</td>\n",
       "      <td>7166532</td>\n",
       "      <td>11</td>\n",
       "    </tr>\n",
       "  </tbody>\n",
       "</table>\n",
       "<p>600 rows × 13 columns</p>\n",
       "</div>"
      ],
      "text/plain": [
       "         title distributor genre release_time  time screening_rat director  \\\n",
       "0       개들의 전쟁    롯데엔터테인먼트    액션   2012-11-22    96      청소년 관람불가      조병옥   \n",
       "1         내부자들         쇼박스   느와르   2015-11-19   130      청소년 관람불가      우민호   \n",
       "2    은밀하게 위대하게         쇼박스    액션   2013-06-05   123       15세 관람가      장철수   \n",
       "3     나는 공무원이다         NEW   코미디   2012-07-12   101        전체 관람가      구자홍   \n",
       "4         불량남녀         쇼박스   코미디   2010-11-04   108       15세 관람가      신근호   \n",
       "..         ...         ...   ...          ...   ...           ...      ...   \n",
       "595         해무         NEW   드라마   2014-08-13   111      청소년 관람불가      심성보   \n",
       "596       파파로티         쇼박스   드라마   2013-03-14   127       15세 관람가      윤종찬   \n",
       "597      살인의 강      마운틴픽처스    공포   2010-09-30    99      청소년 관람불가      김대현   \n",
       "598     악의 연대기          CJ   느와르   2015-05-14   102       15세 관람가      백운학   \n",
       "599        베를린          CJ    액션   2013-01-30   120       15세 관람가      류승완   \n",
       "\n",
       "     dir_prev_bfnum  dir_prev_num  num_staff  num_actor  box_off_num  \\\n",
       "0               NaN             0         91          2        23398   \n",
       "1        1161602.50             2        387          3      7072501   \n",
       "2         220775.25             4        343          4      6959083   \n",
       "3          23894.00             2         20          6       217866   \n",
       "4              1.00             1        251          2       483387   \n",
       "..              ...           ...        ...        ...          ...   \n",
       "595         3833.00             1        510          7      1475091   \n",
       "596       496061.00             1        286          6      1716438   \n",
       "597             NaN             0        123          4         2475   \n",
       "598             NaN             0        431          4      2192525   \n",
       "599             NaN             0        363          5      7166532   \n",
       "\n",
       "     genre_rank  \n",
       "0            11  \n",
       "1            12  \n",
       "2            11  \n",
       "3             9  \n",
       "4             9  \n",
       "..          ...  \n",
       "595           8  \n",
       "596           8  \n",
       "597           7  \n",
       "598          12  \n",
       "599          11  \n",
       "\n",
       "[600 rows x 13 columns]"
      ]
     },
     "execution_count": 76,
     "metadata": {},
     "output_type": "execute_result"
    }
   ],
   "source": [
    "train"
   ]
  },
  {
   "cell_type": "code",
   "execution_count": 78,
   "metadata": {
    "ExecuteTime": {
     "end_time": "2021-12-29T05:56:30.220591Z",
     "start_time": "2021-12-29T05:56:30.193592Z"
    }
   },
   "outputs": [],
   "source": [
    "train = pd.merge(train, tr_nm_rank, how = 'left')"
   ]
  },
  {
   "cell_type": "code",
   "execution_count": 81,
   "metadata": {
    "ExecuteTime": {
     "end_time": "2021-12-29T05:57:42.010843Z",
     "start_time": "2021-12-29T05:57:42.003843Z"
    }
   },
   "outputs": [],
   "source": [
    "test = pd.merge(test, tr_nm_rank, how = 'left')"
   ]
  },
  {
   "cell_type": "markdown",
   "metadata": {},
   "source": [
    "__테스트 데이터 결측값 처리__"
   ]
  },
  {
   "cell_type": "code",
   "execution_count": 82,
   "metadata": {
    "ExecuteTime": {
     "end_time": "2021-12-29T06:00:24.237920Z",
     "start_time": "2021-12-29T06:00:24.227921Z"
    }
   },
   "outputs": [
    {
     "data": {
      "text/plain": [
       "title               0\n",
       "distributor         0\n",
       "genre               0\n",
       "release_time        0\n",
       "time                0\n",
       "screening_rat       0\n",
       "director            0\n",
       "dir_prev_bfnum    330\n",
       "dir_prev_num        0\n",
       "num_staff           0\n",
       "num_actor           0\n",
       "box_off_num         0\n",
       "genre_rank          0\n",
       "num_rank            0\n",
       "dtype: int64"
      ]
     },
     "execution_count": 82,
     "metadata": {},
     "output_type": "execute_result"
    }
   ],
   "source": [
    "train.isnull().sum()"
   ]
  },
  {
   "cell_type": "code",
   "execution_count": 83,
   "metadata": {
    "ExecuteTime": {
     "end_time": "2021-12-29T06:00:42.089202Z",
     "start_time": "2021-12-29T06:00:42.083201Z"
    }
   },
   "outputs": [
    {
     "data": {
      "text/plain": [
       "title               0\n",
       "distributor         0\n",
       "genre               0\n",
       "release_time        0\n",
       "time                0\n",
       "screening_rat       0\n",
       "director            0\n",
       "dir_prev_bfnum    136\n",
       "dir_prev_num        0\n",
       "num_staff           0\n",
       "num_actor           0\n",
       "genre_rank          0\n",
       "num_rank           31\n",
       "dtype: int64"
      ]
     },
     "execution_count": 83,
     "metadata": {},
     "output_type": "execute_result"
    }
   ],
   "source": [
    "test.isnull().sum()"
   ]
  },
  {
   "cell_type": "code",
   "execution_count": 94,
   "metadata": {
    "ExecuteTime": {
     "end_time": "2021-12-29T06:06:37.206913Z",
     "start_time": "2021-12-29T06:06:37.187914Z"
    }
   },
   "outputs": [],
   "source": [
    "test.fillna(0, inplace = True)"
   ]
  },
  {
   "cell_type": "code",
   "execution_count": 95,
   "metadata": {
    "ExecuteTime": {
     "end_time": "2021-12-29T06:06:39.909875Z",
     "start_time": "2021-12-29T06:06:39.895873Z"
    }
   },
   "outputs": [
    {
     "data": {
      "text/plain": [
       "title             0\n",
       "distributor       0\n",
       "genre             0\n",
       "release_time      0\n",
       "time              0\n",
       "screening_rat     0\n",
       "director          0\n",
       "dir_prev_bfnum    0\n",
       "dir_prev_num      0\n",
       "num_staff         0\n",
       "num_actor         0\n",
       "genre_rank        0\n",
       "num_rank          0\n",
       "dtype: int64"
      ]
     },
     "execution_count": 95,
     "metadata": {},
     "output_type": "execute_result"
    }
   ],
   "source": [
    "test.isnull().sum()"
   ]
  },
  {
   "cell_type": "markdown",
   "metadata": {},
   "source": [
    "### 모델링 데이터 구성"
   ]
  },
  {
   "cell_type": "markdown",
   "metadata": {},
   "source": [
    "* 타겟 값인 관객수를 로그변환  \n",
    "* 상영등급은 더미 변수  \n",
    "* 출연 배우 수는 로그 변환"
   ]
  },
  {
   "cell_type": "code",
   "execution_count": 98,
   "metadata": {
    "ExecuteTime": {
     "end_time": "2021-12-29T06:44:01.998675Z",
     "start_time": "2021-12-29T06:44:01.970673Z"
    }
   },
   "outputs": [],
   "source": [
    "from sklearn.ensemble import GradientBoostingRegressor, RandomForestRegressor\n",
    "from xgboost import XGBRegressor\n",
    "from lightgbm import LGBMRegressor\n",
    "from catboost import CatBoostRegressor\n",
    "from sklearn.metrics import mean_squared_error\n",
    "from sklearn.model_selection import KFold\n",
    "from ngboost import NGBRegressor"
   ]
  },
  {
   "cell_type": "code",
   "execution_count": 99,
   "metadata": {
    "ExecuteTime": {
     "end_time": "2021-12-29T06:45:16.841112Z",
     "start_time": "2021-12-29T06:45:16.827124Z"
    }
   },
   "outputs": [],
   "source": [
    "X = train[['num_rank', 'time', 'num_staff', 'num_actor', 'genre_rank', 'screening_rat']]\n",
    "y = np.log1p(train.box_off_num)"
   ]
  },
  {
   "cell_type": "code",
   "execution_count": 102,
   "metadata": {
    "ExecuteTime": {
     "end_time": "2021-12-29T06:46:55.822018Z",
     "start_time": "2021-12-29T06:46:55.805011Z"
    }
   },
   "outputs": [],
   "source": [
    "X = pd.get_dummies(columns = ['screening_rat'], data = X)"
   ]
  },
  {
   "cell_type": "code",
   "execution_count": 103,
   "metadata": {
    "ExecuteTime": {
     "end_time": "2021-12-29T06:46:58.805217Z",
     "start_time": "2021-12-29T06:46:58.787191Z"
    }
   },
   "outputs": [
    {
     "data": {
      "text/html": [
       "<div>\n",
       "<style scoped>\n",
       "    .dataframe tbody tr th:only-of-type {\n",
       "        vertical-align: middle;\n",
       "    }\n",
       "\n",
       "    .dataframe tbody tr th {\n",
       "        vertical-align: top;\n",
       "    }\n",
       "\n",
       "    .dataframe thead th {\n",
       "        text-align: right;\n",
       "    }\n",
       "</style>\n",
       "<table border=\"1\" class=\"dataframe\">\n",
       "  <thead>\n",
       "    <tr style=\"text-align: right;\">\n",
       "      <th></th>\n",
       "      <th>num_rank</th>\n",
       "      <th>time</th>\n",
       "      <th>num_staff</th>\n",
       "      <th>num_actor</th>\n",
       "      <th>genre_rank</th>\n",
       "      <th>screening_rat_12세 관람가</th>\n",
       "      <th>screening_rat_15세 관람가</th>\n",
       "      <th>screening_rat_전체 관람가</th>\n",
       "      <th>screening_rat_청소년 관람불가</th>\n",
       "    </tr>\n",
       "  </thead>\n",
       "  <tbody>\n",
       "    <tr>\n",
       "      <th>0</th>\n",
       "      <td>134</td>\n",
       "      <td>96</td>\n",
       "      <td>91</td>\n",
       "      <td>2</td>\n",
       "      <td>11</td>\n",
       "      <td>0</td>\n",
       "      <td>0</td>\n",
       "      <td>0</td>\n",
       "      <td>1</td>\n",
       "    </tr>\n",
       "    <tr>\n",
       "      <th>1</th>\n",
       "      <td>145</td>\n",
       "      <td>130</td>\n",
       "      <td>387</td>\n",
       "      <td>3</td>\n",
       "      <td>12</td>\n",
       "      <td>0</td>\n",
       "      <td>0</td>\n",
       "      <td>0</td>\n",
       "      <td>1</td>\n",
       "    </tr>\n",
       "    <tr>\n",
       "      <th>2</th>\n",
       "      <td>145</td>\n",
       "      <td>123</td>\n",
       "      <td>343</td>\n",
       "      <td>4</td>\n",
       "      <td>11</td>\n",
       "      <td>0</td>\n",
       "      <td>1</td>\n",
       "      <td>0</td>\n",
       "      <td>0</td>\n",
       "    </tr>\n",
       "    <tr>\n",
       "      <th>3</th>\n",
       "      <td>140</td>\n",
       "      <td>101</td>\n",
       "      <td>20</td>\n",
       "      <td>6</td>\n",
       "      <td>9</td>\n",
       "      <td>0</td>\n",
       "      <td>0</td>\n",
       "      <td>1</td>\n",
       "      <td>0</td>\n",
       "    </tr>\n",
       "    <tr>\n",
       "      <th>4</th>\n",
       "      <td>145</td>\n",
       "      <td>108</td>\n",
       "      <td>251</td>\n",
       "      <td>2</td>\n",
       "      <td>9</td>\n",
       "      <td>0</td>\n",
       "      <td>1</td>\n",
       "      <td>0</td>\n",
       "      <td>0</td>\n",
       "    </tr>\n",
       "  </tbody>\n",
       "</table>\n",
       "</div>"
      ],
      "text/plain": [
       "   num_rank  time  num_staff  num_actor  genre_rank  screening_rat_12세 관람가  \\\n",
       "0       134    96         91          2          11                      0   \n",
       "1       145   130        387          3          12                      0   \n",
       "2       145   123        343          4          11                      0   \n",
       "3       140   101         20          6           9                      0   \n",
       "4       145   108        251          2           9                      0   \n",
       "\n",
       "   screening_rat_15세 관람가  screening_rat_전체 관람가  screening_rat_청소년 관람불가  \n",
       "0                      0                     0                       1  \n",
       "1                      0                     0                       1  \n",
       "2                      1                     0                       0  \n",
       "3                      0                     1                       0  \n",
       "4                      1                     0                       0  "
      ]
     },
     "execution_count": 103,
     "metadata": {},
     "output_type": "execute_result"
    }
   ],
   "source": [
    "X.head()"
   ]
  },
  {
   "cell_type": "code",
   "execution_count": 106,
   "metadata": {
    "ExecuteTime": {
     "end_time": "2021-12-29T06:48:31.124251Z",
     "start_time": "2021-12-29T06:48:31.098251Z"
    },
    "scrolled": true
   },
   "outputs": [
    {
     "data": {
      "text/plain": [
       "count    600.000000\n",
       "mean       3.706667\n",
       "std        2.446889\n",
       "min        0.000000\n",
       "25%        2.000000\n",
       "50%        3.000000\n",
       "75%        4.000000\n",
       "max       25.000000\n",
       "Name: num_actor, dtype: float64"
      ]
     },
     "execution_count": 106,
     "metadata": {},
     "output_type": "execute_result"
    }
   ],
   "source": [
    "X.num_actor.describe()"
   ]
  },
  {
   "cell_type": "code",
   "execution_count": 107,
   "metadata": {
    "ExecuteTime": {
     "end_time": "2021-12-29T06:48:38.275537Z",
     "start_time": "2021-12-29T06:48:38.266537Z"
    }
   },
   "outputs": [],
   "source": [
    "X['num_actor'] = np.log1p(X['num_actor'])"
   ]
  },
  {
   "cell_type": "code",
   "execution_count": 108,
   "metadata": {
    "ExecuteTime": {
     "end_time": "2021-12-29T06:48:41.255647Z",
     "start_time": "2021-12-29T06:48:41.232619Z"
    }
   },
   "outputs": [
    {
     "data": {
      "text/plain": [
       "count    600.000000\n",
       "mean       1.446130\n",
       "std        0.446256\n",
       "min        0.000000\n",
       "25%        1.098612\n",
       "50%        1.386294\n",
       "75%        1.609438\n",
       "max        3.258097\n",
       "Name: num_actor, dtype: float64"
      ]
     },
     "execution_count": 108,
     "metadata": {},
     "output_type": "execute_result"
    }
   ],
   "source": [
    "X.num_actor.describe()"
   ]
  },
  {
   "cell_type": "code",
   "execution_count": 109,
   "metadata": {
    "ExecuteTime": {
     "end_time": "2021-12-29T06:49:26.737267Z",
     "start_time": "2021-12-29T06:49:26.726243Z"
    }
   },
   "outputs": [],
   "source": [
    "target = test[['num_rank', 'time', 'num_staff', 'num_actor', 'genre_rank', 'screening_rat']]\n",
    "target = pd.get_dummies(columns = ['screening_rat'], data = target)\n",
    "target['num_actor'] = np.log1p(target['num_actor'])"
   ]
  },
  {
   "cell_type": "markdown",
   "metadata": {},
   "source": [
    "10 fold로 교차검증"
   ]
  },
  {
   "cell_type": "code",
   "execution_count": 110,
   "metadata": {
    "ExecuteTime": {
     "end_time": "2021-12-29T06:49:35.484877Z",
     "start_time": "2021-12-29T06:49:35.467902Z"
    }
   },
   "outputs": [],
   "source": [
    "kf = KFold(n_splits =  10, shuffle = True, random_state = 42)"
   ]
  },
  {
   "cell_type": "markdown",
   "metadata": {},
   "source": [
    "### GradientBoostingRegressor"
   ]
  },
  {
   "cell_type": "code",
   "execution_count": 111,
   "metadata": {
    "ExecuteTime": {
     "end_time": "2021-12-29T06:50:12.960521Z",
     "start_time": "2021-12-29T06:50:12.953520Z"
    }
   },
   "outputs": [],
   "source": [
    "gbm = GradientBoostingRegressor(random_state = 42)"
   ]
  },
  {
   "cell_type": "code",
   "execution_count": 115,
   "metadata": {
    "ExecuteTime": {
     "end_time": "2021-12-29T06:58:12.025427Z",
     "start_time": "2021-12-29T06:58:11.481428Z"
    }
   },
   "outputs": [],
   "source": [
    "rmse_list = []\n",
    "gb_pred = np.zeros((test.shape[0]))\n",
    "for tr_idx, val_idx in kf.split(X, y) :\n",
    "    tr_x, tr_y = X.iloc[tr_idx], y.iloc[tr_idx]\n",
    "    val_x, val_y = X.iloc[val_idx], y.iloc[val_idx]\n",
    "    \n",
    "    gbm.fit(tr_x, tr_y)\n",
    "    \n",
    "    pred = np.expm1([0 if x < 0 else x for x in gbm.predict(val_x)])\n",
    "    sub_pred = np.expm1([0 if x < 0 else x for x in gbm.predict(target)])\n",
    "    rmse = np.sqrt(mean_squared_error(val_y, pred))\n",
    "    \n",
    "    rmse_list.append(rmse)\n",
    "    \n",
    "    gb_pred += (sub_pred / 10)"
   ]
  },
  {
   "cell_type": "code",
   "execution_count": 122,
   "metadata": {
    "ExecuteTime": {
     "end_time": "2021-12-29T06:59:17.424373Z",
     "start_time": "2021-12-29T06:59:17.414375Z"
    }
   },
   "outputs": [
    {
     "data": {
      "text/plain": [
       "1174378.9765191542"
      ]
     },
     "execution_count": 122,
     "metadata": {},
     "output_type": "execute_result"
    }
   ],
   "source": [
    "np.mean(rmse_list)"
   ]
  },
  {
   "cell_type": "markdown",
   "metadata": {},
   "source": [
    "### NGBRegressor"
   ]
  },
  {
   "cell_type": "code",
   "execution_count": 128,
   "metadata": {
    "ExecuteTime": {
     "end_time": "2021-12-29T07:04:59.733561Z",
     "start_time": "2021-12-29T07:04:59.725529Z"
    }
   },
   "outputs": [],
   "source": [
    "ngb = NGBRegressor(random_state = 518)"
   ]
  },
  {
   "cell_type": "code",
   "execution_count": 135,
   "metadata": {
    "ExecuteTime": {
     "end_time": "2021-12-29T07:08:22.637654Z",
     "start_time": "2021-12-29T07:07:22.028745Z"
    }
   },
   "outputs": [
    {
     "name": "stdout",
     "output_type": "stream",
     "text": [
      "[iter 0] loss=0.8012 val_loss=0.0000 scale=1.0000 norm=0.7501\n",
      "[iter 100] loss=0.7809 val_loss=0.0000 scale=0.5000 norm=0.3696\n",
      "[iter 200] loss=0.7665 val_loss=0.0000 scale=0.2500 norm=0.1831\n",
      "[iter 300] loss=0.7549 val_loss=0.0000 scale=0.5000 norm=0.3636\n",
      "[iter 400] loss=0.7539 val_loss=0.0000 scale=0.0010 norm=0.0007\n",
      "[iter 0] loss=0.7680 val_loss=0.0000 scale=0.5000 norm=0.3710\n",
      "[iter 100] loss=0.7431 val_loss=0.0000 scale=0.5000 norm=0.3633\n",
      "[iter 200] loss=0.7287 val_loss=0.0000 scale=0.2500 norm=0.1796\n",
      "[iter 300] loss=0.7180 val_loss=0.0000 scale=1.0000 norm=0.7126\n",
      "[iter 400] loss=0.7078 val_loss=0.0000 scale=0.1250 norm=0.0884\n",
      "[iter 0] loss=0.7148 val_loss=0.0000 scale=0.5000 norm=0.3588\n",
      "[iter 100] loss=0.6969 val_loss=0.0000 scale=0.1250 norm=0.0881\n",
      "[iter 200] loss=0.6894 val_loss=0.0000 scale=0.1250 norm=0.0875\n",
      "[iter 300] loss=0.6867 val_loss=0.0000 scale=0.5000 norm=0.3496\n",
      "[iter 400] loss=0.6855 val_loss=0.0000 scale=0.0078 norm=0.0055\n",
      "[iter 0] loss=0.7067 val_loss=0.0000 scale=1.0000 norm=0.7112\n",
      "[iter 100] loss=0.6885 val_loss=0.0000 scale=0.5000 norm=0.3499\n",
      "[iter 200] loss=0.6794 val_loss=0.0000 scale=0.2500 norm=0.1739\n",
      "[iter 300] loss=0.6670 val_loss=0.0000 scale=0.1250 norm=0.0861\n",
      "[iter 400] loss=0.6602 val_loss=0.0000 scale=0.2500 norm=0.1714\n",
      "[iter 0] loss=0.7015 val_loss=0.0000 scale=1.0000 norm=0.7205\n",
      "[iter 100] loss=0.6427 val_loss=0.0000 scale=0.5000 norm=0.3389\n",
      "[iter 200] loss=0.6163 val_loss=0.0000 scale=1.0000 norm=0.6635\n",
      "[iter 300] loss=0.5960 val_loss=0.0000 scale=0.2500 norm=0.1640\n",
      "[iter 400] loss=0.5776 val_loss=0.0000 scale=0.5000 norm=0.3249\n",
      "[iter 0] loss=0.6272 val_loss=0.0000 scale=0.5000 norm=0.3534\n",
      "[iter 100] loss=0.5935 val_loss=0.0000 scale=0.5000 norm=0.3387\n",
      "[iter 200] loss=0.5731 val_loss=0.0000 scale=0.5000 norm=0.3314\n",
      "[iter 300] loss=0.5615 val_loss=0.0000 scale=0.5000 norm=0.3279\n",
      "[iter 400] loss=0.5512 val_loss=0.0000 scale=0.5000 norm=0.3250\n",
      "[iter 0] loss=0.5903 val_loss=0.0000 scale=1.0000 norm=0.6712\n",
      "[iter 100] loss=0.5513 val_loss=0.0000 scale=1.0000 norm=0.6374\n",
      "[iter 200] loss=0.5352 val_loss=0.0000 scale=0.1250 norm=0.0783\n",
      "[iter 300] loss=0.5295 val_loss=0.0000 scale=0.1250 norm=0.0781\n",
      "[iter 400] loss=0.5261 val_loss=0.0000 scale=0.0312 norm=0.0195\n",
      "[iter 0] loss=0.5315 val_loss=0.0000 scale=1.0000 norm=0.6488\n",
      "[iter 100] loss=0.4980 val_loss=0.0000 scale=0.2500 norm=0.1549\n",
      "[iter 200] loss=0.4841 val_loss=0.0000 scale=0.5000 norm=0.3072\n",
      "[iter 300] loss=0.4780 val_loss=0.0000 scale=0.0020 norm=0.0012\n",
      "[iter 400] loss=0.4778 val_loss=0.0000 scale=0.0010 norm=0.0006\n",
      "[iter 0] loss=0.5547 val_loss=0.0000 scale=0.5000 norm=0.3316\n",
      "[iter 100] loss=0.5182 val_loss=0.0000 scale=0.2500 norm=0.1575\n",
      "[iter 200] loss=0.5023 val_loss=0.0000 scale=1.0000 norm=0.6225\n",
      "[iter 300] loss=0.4915 val_loss=0.0000 scale=0.0312 norm=0.0193\n",
      "[iter 400] loss=0.4823 val_loss=0.0000 scale=0.2500 norm=0.1539\n",
      "[iter 0] loss=0.4897 val_loss=0.0000 scale=0.5000 norm=0.3119\n",
      "[iter 100] loss=0.4804 val_loss=0.0000 scale=0.1250 norm=0.0773\n",
      "[iter 200] loss=0.4724 val_loss=0.0000 scale=0.5000 norm=0.3077\n",
      "[iter 300] loss=0.4621 val_loss=0.0000 scale=0.2500 norm=0.1534\n",
      "[iter 400] loss=0.4539 val_loss=0.0000 scale=0.5000 norm=0.3056\n"
     ]
    }
   ],
   "source": [
    "rmse_list = []\n",
    "ngb_pred = np.zeros((test.shape[0]))\n",
    "for tr_idx, val_idx in kf.split(X, y) :\n",
    "    tr_x, tr_y = X.iloc[tr_idx], y.iloc[tr_idx]\n",
    "    val_x, val_y = X.iloc[val_idx], y.iloc[val_idx]\n",
    "    \n",
    "    ngb.fit(tr_x, tr_y)\n",
    "    \n",
    "    pred = np.expm1([0 if x < 0 else x for x in ngb.predict(val_x)])\n",
    "    sub_pred = np.expm1([0 if x < 0 else x for x in ngb.predict(target)])\n",
    "    rmse = np.sqrt(mean_squared_error(val_y, pred))\n",
    "    \n",
    "    rmse_list.append(rmse)\n",
    "    \n",
    "    ngb_pred += (sub_pred / 10)"
   ]
  },
  {
   "cell_type": "code",
   "execution_count": 136,
   "metadata": {
    "ExecuteTime": {
     "end_time": "2021-12-29T07:08:22.713289Z",
     "start_time": "2021-12-29T07:08:22.700168Z"
    }
   },
   "outputs": [
    {
     "data": {
      "text/plain": [
       "1490631.2154156277"
      ]
     },
     "execution_count": 136,
     "metadata": {},
     "output_type": "execute_result"
    }
   ],
   "source": [
    "np.mean(rmse_list)"
   ]
  },
  {
   "cell_type": "markdown",
   "metadata": {},
   "source": [
    "### LGBMRegressor"
   ]
  },
  {
   "cell_type": "code",
   "execution_count": 137,
   "metadata": {
    "ExecuteTime": {
     "end_time": "2021-12-29T07:08:22.788165Z",
     "start_time": "2021-12-29T07:08:22.774167Z"
    }
   },
   "outputs": [],
   "source": [
    "lgbm = LGBMRegressor(random_state = 518)"
   ]
  },
  {
   "cell_type": "code",
   "execution_count": 138,
   "metadata": {
    "ExecuteTime": {
     "end_time": "2021-12-29T07:08:23.448168Z",
     "start_time": "2021-12-29T07:08:22.849167Z"
    }
   },
   "outputs": [],
   "source": [
    "rmse_list = []\n",
    "lgb_pred = np.zeros((test.shape[0]))\n",
    "for tr_idx, val_idx in kf.split(X, y) :\n",
    "    tr_x, tr_y = X.iloc[tr_idx], y.iloc[tr_idx]\n",
    "    val_x, val_y = X.iloc[val_idx], y.iloc[val_idx]\n",
    "    \n",
    "    lgbm.fit(tr_x, tr_y)\n",
    "    \n",
    "    pred = np.expm1([0 if x < 0 else x for x in lgbm.predict(val_x)])\n",
    "    sub_pred = np.expm1([0 if x < 0 else x for x in lgbm.predict(target)])\n",
    "    rmse = np.sqrt(mean_squared_error(val_y, pred))\n",
    "    \n",
    "    rmse_list.append(rmse)\n",
    "    \n",
    "    lgb_pred += (sub_pred / 10)"
   ]
  },
  {
   "cell_type": "code",
   "execution_count": 139,
   "metadata": {
    "ExecuteTime": {
     "end_time": "2021-12-29T07:08:23.568167Z",
     "start_time": "2021-12-29T07:08:23.555167Z"
    }
   },
   "outputs": [
    {
     "data": {
      "text/plain": [
       "1213815.0440528719"
      ]
     },
     "execution_count": 139,
     "metadata": {},
     "output_type": "execute_result"
    }
   ],
   "source": [
    "np.mean(rmse_list)"
   ]
  },
  {
   "cell_type": "markdown",
   "metadata": {},
   "source": [
    "### XGBRegressor"
   ]
  },
  {
   "cell_type": "code",
   "execution_count": 147,
   "metadata": {
    "ExecuteTime": {
     "end_time": "2021-12-29T07:09:35.222821Z",
     "start_time": "2021-12-29T07:09:35.214821Z"
    }
   },
   "outputs": [],
   "source": [
    "xgb = XGBRegressor(random_state = 518)"
   ]
  },
  {
   "cell_type": "code",
   "execution_count": 148,
   "metadata": {
    "ExecuteTime": {
     "end_time": "2021-12-29T07:09:39.753444Z",
     "start_time": "2021-12-29T07:09:38.293445Z"
    }
   },
   "outputs": [],
   "source": [
    "rmse_list = []\n",
    "xgb_pred = np.zeros((test.shape[0]))\n",
    "for tr_idx, val_idx in kf.split(X, y) :\n",
    "    tr_x, tr_y = X.iloc[tr_idx], y.iloc[tr_idx]\n",
    "    val_x, val_y = X.iloc[val_idx], y.iloc[val_idx]\n",
    "    \n",
    "    xgb.fit(tr_x, tr_y)\n",
    "    \n",
    "    pred = np.expm1([0 if x < 0 else x for x in xgb.predict(val_x)])\n",
    "    sub_pred = np.expm1([0 if x < 0 else x for x in xgb.predict(target)])\n",
    "    rmse = np.sqrt(mean_squared_error(val_y, pred))\n",
    "    \n",
    "    rmse_list.append(rmse)\n",
    "    \n",
    "    xgb_pred += (sub_pred / 10)"
   ]
  },
  {
   "cell_type": "code",
   "execution_count": 149,
   "metadata": {
    "ExecuteTime": {
     "end_time": "2021-12-29T07:09:41.565166Z",
     "start_time": "2021-12-29T07:09:41.557205Z"
    }
   },
   "outputs": [
    {
     "data": {
      "text/plain": [
       "1437735.1546705803"
      ]
     },
     "execution_count": 149,
     "metadata": {},
     "output_type": "execute_result"
    }
   ],
   "source": [
    "np.mean(rmse_list)"
   ]
  },
  {
   "cell_type": "markdown",
   "metadata": {},
   "source": [
    "### CatBoostRegressor"
   ]
  },
  {
   "cell_type": "code",
   "execution_count": 140,
   "metadata": {
    "ExecuteTime": {
     "end_time": "2021-12-29T07:08:23.643167Z",
     "start_time": "2021-12-29T07:08:23.629167Z"
    }
   },
   "outputs": [],
   "source": [
    "cat = CatBoostRegressor(random_state = 518, silent = True)"
   ]
  },
  {
   "cell_type": "code",
   "execution_count": 141,
   "metadata": {
    "ExecuteTime": {
     "end_time": "2021-12-29T07:08:35.649403Z",
     "start_time": "2021-12-29T07:08:23.704167Z"
    }
   },
   "outputs": [],
   "source": [
    "rmse_list = []\n",
    "cat_pred = np.zeros((test.shape[0]))\n",
    "for tr_idx, val_idx in kf.split(X, y) :\n",
    "    tr_x, tr_y = X.iloc[tr_idx], y.iloc[tr_idx]\n",
    "    val_x, val_y = X.iloc[val_idx], y.iloc[val_idx]\n",
    "    \n",
    "    cat.fit(tr_x, tr_y)\n",
    "    \n",
    "    pred = np.expm1([0 if x < 0 else x for x in cat.predict(val_x)])\n",
    "    sub_pred = np.expm1([0 if x < 0 else x for x in cat.predict(target)])\n",
    "    rmse = np.sqrt(mean_squared_error(val_y, pred))\n",
    "    \n",
    "    rmse_list.append(rmse)\n",
    "    \n",
    "    cat_pred += (sub_pred / 10)"
   ]
  },
  {
   "cell_type": "code",
   "execution_count": 142,
   "metadata": {
    "ExecuteTime": {
     "end_time": "2021-12-29T07:08:35.725404Z",
     "start_time": "2021-12-29T07:08:35.712405Z"
    }
   },
   "outputs": [
    {
     "data": {
      "text/plain": [
       "1078083.3505434636"
      ]
     },
     "execution_count": 142,
     "metadata": {},
     "output_type": "execute_result"
    }
   ],
   "source": [
    "np.mean(rmse_list)"
   ]
  },
  {
   "cell_type": "markdown",
   "metadata": {},
   "source": [
    "### RandomForestRegressor"
   ]
  },
  {
   "cell_type": "code",
   "execution_count": 143,
   "metadata": {
    "ExecuteTime": {
     "end_time": "2021-12-29T07:08:35.800406Z",
     "start_time": "2021-12-29T07:08:35.787404Z"
    }
   },
   "outputs": [],
   "source": [
    "rf = RandomForestRegressor(random_state = 518)"
   ]
  },
  {
   "cell_type": "code",
   "execution_count": 144,
   "metadata": {
    "ExecuteTime": {
     "end_time": "2021-12-29T07:08:37.885405Z",
     "start_time": "2021-12-29T07:08:35.862405Z"
    }
   },
   "outputs": [],
   "source": [
    "rmse_list = []\n",
    "rf_pred = np.zeros((test.shape[0]))\n",
    "for tr_idx, val_idx in kf.split(X, y) :\n",
    "    tr_x, tr_y = X.iloc[tr_idx], y.iloc[tr_idx]\n",
    "    val_x, val_y = X.iloc[val_idx], y.iloc[val_idx]\n",
    "    \n",
    "    rf.fit(tr_x, tr_y)\n",
    "    \n",
    "    pred = np.expm1([0 if x < 0 else x for x in rf.predict(val_x)])\n",
    "    sub_pred = np.expm1([0 if x < 0 else x for x in rf.predict(target)])\n",
    "    rmse = np.sqrt(mean_squared_error(val_y, pred))\n",
    "    \n",
    "    rmse_list.append(rmse)\n",
    "    \n",
    "    rf_pred += (sub_pred / 10)"
   ]
  },
  {
   "cell_type": "code",
   "execution_count": 145,
   "metadata": {
    "ExecuteTime": {
     "end_time": "2021-12-29T07:08:37.960403Z",
     "start_time": "2021-12-29T07:08:37.946404Z"
    }
   },
   "outputs": [
    {
     "data": {
      "text/plain": [
       "872738.262092494"
      ]
     },
     "execution_count": 145,
     "metadata": {},
     "output_type": "execute_result"
    }
   ],
   "source": [
    "np.mean(rmse_list)"
   ]
  },
  {
   "cell_type": "markdown",
   "metadata": {},
   "source": [
    "### 최종 예측 결과 블렌딩"
   ]
  },
  {
   "cell_type": "code",
   "execution_count": 150,
   "metadata": {
    "ExecuteTime": {
     "end_time": "2021-12-29T07:09:44.277605Z",
     "start_time": "2021-12-29T07:09:44.261604Z"
    }
   },
   "outputs": [],
   "source": [
    "submission['box_off_num'] = (xgb_pred + cat_pred + lgb_pred + rf_pred + gb_pred + ngb_pred) / 6"
   ]
  },
  {
   "cell_type": "code",
   "execution_count": 151,
   "metadata": {
    "ExecuteTime": {
     "end_time": "2021-12-29T07:10:01.500921Z",
     "start_time": "2021-12-29T07:10:01.479954Z"
    }
   },
   "outputs": [],
   "source": [
    "submission.to_csv(\"1229.csv\", index = False)"
   ]
  },
  {
   "cell_type": "code",
   "execution_count": 155,
   "metadata": {
    "ExecuteTime": {
     "end_time": "2021-12-29T07:25:43.293962Z",
     "start_time": "2021-12-29T07:25:43.275961Z"
    }
   },
   "outputs": [
    {
     "data": {
      "text/html": [
       "<div>\n",
       "<style scoped>\n",
       "    .dataframe tbody tr th:only-of-type {\n",
       "        vertical-align: middle;\n",
       "    }\n",
       "\n",
       "    .dataframe tbody tr th {\n",
       "        vertical-align: top;\n",
       "    }\n",
       "\n",
       "    .dataframe thead th {\n",
       "        text-align: right;\n",
       "    }\n",
       "</style>\n",
       "<table border=\"1\" class=\"dataframe\">\n",
       "  <thead>\n",
       "    <tr style=\"text-align: right;\">\n",
       "      <th></th>\n",
       "      <th>title</th>\n",
       "      <th>distributor</th>\n",
       "      <th>genre</th>\n",
       "      <th>release_time</th>\n",
       "      <th>time</th>\n",
       "      <th>screening_rat</th>\n",
       "      <th>director</th>\n",
       "      <th>dir_prev_bfnum</th>\n",
       "      <th>dir_prev_num</th>\n",
       "      <th>num_staff</th>\n",
       "      <th>num_actor</th>\n",
       "      <th>box_off_num</th>\n",
       "      <th>genre_rank</th>\n",
       "      <th>num_rank</th>\n",
       "    </tr>\n",
       "  </thead>\n",
       "  <tbody>\n",
       "    <tr>\n",
       "      <th>0</th>\n",
       "      <td>개들의 전쟁</td>\n",
       "      <td>롯데엔터테인먼트</td>\n",
       "      <td>액션</td>\n",
       "      <td>2012-11-22</td>\n",
       "      <td>96</td>\n",
       "      <td>청소년 관람불가</td>\n",
       "      <td>조병옥</td>\n",
       "      <td>NaN</td>\n",
       "      <td>0</td>\n",
       "      <td>91</td>\n",
       "      <td>2</td>\n",
       "      <td>23398</td>\n",
       "      <td>11</td>\n",
       "      <td>134</td>\n",
       "    </tr>\n",
       "    <tr>\n",
       "      <th>1</th>\n",
       "      <td>내부자들</td>\n",
       "      <td>쇼박스</td>\n",
       "      <td>느와르</td>\n",
       "      <td>2015-11-19</td>\n",
       "      <td>130</td>\n",
       "      <td>청소년 관람불가</td>\n",
       "      <td>우민호</td>\n",
       "      <td>1161602.50</td>\n",
       "      <td>2</td>\n",
       "      <td>387</td>\n",
       "      <td>3</td>\n",
       "      <td>7072501</td>\n",
       "      <td>12</td>\n",
       "      <td>145</td>\n",
       "    </tr>\n",
       "    <tr>\n",
       "      <th>2</th>\n",
       "      <td>은밀하게 위대하게</td>\n",
       "      <td>쇼박스</td>\n",
       "      <td>액션</td>\n",
       "      <td>2013-06-05</td>\n",
       "      <td>123</td>\n",
       "      <td>15세 관람가</td>\n",
       "      <td>장철수</td>\n",
       "      <td>220775.25</td>\n",
       "      <td>4</td>\n",
       "      <td>343</td>\n",
       "      <td>4</td>\n",
       "      <td>6959083</td>\n",
       "      <td>11</td>\n",
       "      <td>145</td>\n",
       "    </tr>\n",
       "    <tr>\n",
       "      <th>3</th>\n",
       "      <td>나는 공무원이다</td>\n",
       "      <td>NEW</td>\n",
       "      <td>코미디</td>\n",
       "      <td>2012-07-12</td>\n",
       "      <td>101</td>\n",
       "      <td>전체 관람가</td>\n",
       "      <td>구자홍</td>\n",
       "      <td>23894.00</td>\n",
       "      <td>2</td>\n",
       "      <td>20</td>\n",
       "      <td>6</td>\n",
       "      <td>217866</td>\n",
       "      <td>9</td>\n",
       "      <td>140</td>\n",
       "    </tr>\n",
       "    <tr>\n",
       "      <th>4</th>\n",
       "      <td>불량남녀</td>\n",
       "      <td>쇼박스</td>\n",
       "      <td>코미디</td>\n",
       "      <td>2010-11-04</td>\n",
       "      <td>108</td>\n",
       "      <td>15세 관람가</td>\n",
       "      <td>신근호</td>\n",
       "      <td>1.00</td>\n",
       "      <td>1</td>\n",
       "      <td>251</td>\n",
       "      <td>2</td>\n",
       "      <td>483387</td>\n",
       "      <td>9</td>\n",
       "      <td>145</td>\n",
       "    </tr>\n",
       "    <tr>\n",
       "      <th>...</th>\n",
       "      <td>...</td>\n",
       "      <td>...</td>\n",
       "      <td>...</td>\n",
       "      <td>...</td>\n",
       "      <td>...</td>\n",
       "      <td>...</td>\n",
       "      <td>...</td>\n",
       "      <td>...</td>\n",
       "      <td>...</td>\n",
       "      <td>...</td>\n",
       "      <td>...</td>\n",
       "      <td>...</td>\n",
       "      <td>...</td>\n",
       "      <td>...</td>\n",
       "    </tr>\n",
       "    <tr>\n",
       "      <th>595</th>\n",
       "      <td>해무</td>\n",
       "      <td>NEW</td>\n",
       "      <td>드라마</td>\n",
       "      <td>2014-08-13</td>\n",
       "      <td>111</td>\n",
       "      <td>청소년 관람불가</td>\n",
       "      <td>심성보</td>\n",
       "      <td>3833.00</td>\n",
       "      <td>1</td>\n",
       "      <td>510</td>\n",
       "      <td>7</td>\n",
       "      <td>1475091</td>\n",
       "      <td>8</td>\n",
       "      <td>140</td>\n",
       "    </tr>\n",
       "    <tr>\n",
       "      <th>596</th>\n",
       "      <td>파파로티</td>\n",
       "      <td>쇼박스</td>\n",
       "      <td>드라마</td>\n",
       "      <td>2013-03-14</td>\n",
       "      <td>127</td>\n",
       "      <td>15세 관람가</td>\n",
       "      <td>윤종찬</td>\n",
       "      <td>496061.00</td>\n",
       "      <td>1</td>\n",
       "      <td>286</td>\n",
       "      <td>6</td>\n",
       "      <td>1716438</td>\n",
       "      <td>8</td>\n",
       "      <td>145</td>\n",
       "    </tr>\n",
       "    <tr>\n",
       "      <th>597</th>\n",
       "      <td>살인의 강</td>\n",
       "      <td>마운틴픽처스</td>\n",
       "      <td>공포</td>\n",
       "      <td>2010-09-30</td>\n",
       "      <td>99</td>\n",
       "      <td>청소년 관람불가</td>\n",
       "      <td>김대현</td>\n",
       "      <td>NaN</td>\n",
       "      <td>0</td>\n",
       "      <td>123</td>\n",
       "      <td>4</td>\n",
       "      <td>2475</td>\n",
       "      <td>7</td>\n",
       "      <td>46</td>\n",
       "    </tr>\n",
       "    <tr>\n",
       "      <th>598</th>\n",
       "      <td>악의 연대기</td>\n",
       "      <td>CJ</td>\n",
       "      <td>느와르</td>\n",
       "      <td>2015-05-14</td>\n",
       "      <td>102</td>\n",
       "      <td>15세 관람가</td>\n",
       "      <td>백운학</td>\n",
       "      <td>NaN</td>\n",
       "      <td>0</td>\n",
       "      <td>431</td>\n",
       "      <td>4</td>\n",
       "      <td>2192525</td>\n",
       "      <td>12</td>\n",
       "      <td>141</td>\n",
       "    </tr>\n",
       "    <tr>\n",
       "      <th>599</th>\n",
       "      <td>베를린</td>\n",
       "      <td>CJ</td>\n",
       "      <td>액션</td>\n",
       "      <td>2013-01-30</td>\n",
       "      <td>120</td>\n",
       "      <td>15세 관람가</td>\n",
       "      <td>류승완</td>\n",
       "      <td>NaN</td>\n",
       "      <td>0</td>\n",
       "      <td>363</td>\n",
       "      <td>5</td>\n",
       "      <td>7166532</td>\n",
       "      <td>11</td>\n",
       "      <td>141</td>\n",
       "    </tr>\n",
       "  </tbody>\n",
       "</table>\n",
       "<p>600 rows × 14 columns</p>\n",
       "</div>"
      ],
      "text/plain": [
       "         title distributor genre release_time  time screening_rat director  \\\n",
       "0       개들의 전쟁    롯데엔터테인먼트    액션   2012-11-22    96      청소년 관람불가      조병옥   \n",
       "1         내부자들         쇼박스   느와르   2015-11-19   130      청소년 관람불가      우민호   \n",
       "2    은밀하게 위대하게         쇼박스    액션   2013-06-05   123       15세 관람가      장철수   \n",
       "3     나는 공무원이다         NEW   코미디   2012-07-12   101        전체 관람가      구자홍   \n",
       "4         불량남녀         쇼박스   코미디   2010-11-04   108       15세 관람가      신근호   \n",
       "..         ...         ...   ...          ...   ...           ...      ...   \n",
       "595         해무         NEW   드라마   2014-08-13   111      청소년 관람불가      심성보   \n",
       "596       파파로티         쇼박스   드라마   2013-03-14   127       15세 관람가      윤종찬   \n",
       "597      살인의 강      마운틴픽처스    공포   2010-09-30    99      청소년 관람불가      김대현   \n",
       "598     악의 연대기          CJ   느와르   2015-05-14   102       15세 관람가      백운학   \n",
       "599        베를린          CJ    액션   2013-01-30   120       15세 관람가      류승완   \n",
       "\n",
       "     dir_prev_bfnum  dir_prev_num  num_staff  num_actor  box_off_num  \\\n",
       "0               NaN             0         91          2        23398   \n",
       "1        1161602.50             2        387          3      7072501   \n",
       "2         220775.25             4        343          4      6959083   \n",
       "3          23894.00             2         20          6       217866   \n",
       "4              1.00             1        251          2       483387   \n",
       "..              ...           ...        ...        ...          ...   \n",
       "595         3833.00             1        510          7      1475091   \n",
       "596       496061.00             1        286          6      1716438   \n",
       "597             NaN             0        123          4         2475   \n",
       "598             NaN             0        431          4      2192525   \n",
       "599             NaN             0        363          5      7166532   \n",
       "\n",
       "     genre_rank  num_rank  \n",
       "0            11       134  \n",
       "1            12       145  \n",
       "2            11       145  \n",
       "3             9       140  \n",
       "4             9       145  \n",
       "..          ...       ...  \n",
       "595           8       140  \n",
       "596           8       145  \n",
       "597           7        46  \n",
       "598          12       141  \n",
       "599          11       141  \n",
       "\n",
       "[600 rows x 14 columns]"
      ]
     },
     "execution_count": 155,
     "metadata": {},
     "output_type": "execute_result"
    }
   ],
   "source": [
    "train"
   ]
  }
 ],
 "metadata": {
  "kernelspec": {
   "display_name": "Python 3",
   "language": "python",
   "name": "python3"
  },
  "language_info": {
   "codemirror_mode": {
    "name": "ipython",
    "version": 3
   },
   "file_extension": ".py",
   "mimetype": "text/x-python",
   "name": "python",
   "nbconvert_exporter": "python",
   "pygments_lexer": "ipython3",
   "version": "3.8.5"
  },
  "toc": {
   "base_numbering": 1,
   "nav_menu": {},
   "number_sections": true,
   "sideBar": true,
   "skip_h1_title": false,
   "title_cell": "Table of Contents",
   "title_sidebar": "Contents",
   "toc_cell": false,
   "toc_position": {},
   "toc_section_display": true,
   "toc_window_display": false
  },
  "varInspector": {
   "cols": {
    "lenName": 16,
    "lenType": 16,
    "lenVar": 40
   },
   "kernels_config": {
    "python": {
     "delete_cmd_postfix": "",
     "delete_cmd_prefix": "del ",
     "library": "var_list.py",
     "varRefreshCmd": "print(var_dic_list())"
    },
    "r": {
     "delete_cmd_postfix": ") ",
     "delete_cmd_prefix": "rm(",
     "library": "var_list.r",
     "varRefreshCmd": "cat(var_dic_list()) "
    }
   },
   "types_to_exclude": [
    "module",
    "function",
    "builtin_function_or_method",
    "instance",
    "_Feature"
   ],
   "window_display": false
  }
 },
 "nbformat": 4,
 "nbformat_minor": 4
}
